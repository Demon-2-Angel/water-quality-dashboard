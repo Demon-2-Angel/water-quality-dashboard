{
 "cells": [
  {
   "cell_type": "code",
   "execution_count": 1,
   "metadata": {
    "colab": {
     "base_uri": "https://localhost:8080/"
    },
    "id": "UogFxHUz-h1x",
    "outputId": "a1c62c0c-861b-476c-8fd8-d2d481fd4599"
   },
   "outputs": [
    {
     "name": "stdout",
     "output_type": "stream",
     "text": [
      "Requirement already satisfied: geemap in c:\\users\\aniru\\anaconda3\\lib\\site-packages (0.20.1)\n",
      "Requirement already satisfied: pyperclip in c:\\users\\aniru\\anaconda3\\lib\\site-packages (from geemap) (1.8.2)\n",
      "Requirement already satisfied: whiteboxgui>=0.6.0 in c:\\users\\aniru\\anaconda3\\lib\\site-packages (from geemap) (2.2.0)\n",
      "Requirement already satisfied: pyshp>=2.1.3 in c:\\users\\aniru\\anaconda3\\lib\\site-packages (from geemap) (2.3.1)\n",
      "Requirement already satisfied: scooby in c:\\users\\aniru\\anaconda3\\lib\\site-packages (from geemap) (0.7.1)\n",
      "Requirement already satisfied: bqplot in c:\\users\\aniru\\anaconda3\\lib\\site-packages (from geemap) (0.12.36)\n",
      "Requirement already satisfied: pandas in c:\\users\\aniru\\anaconda3\\lib\\site-packages (from geemap) (1.4.4)\n",
      "Requirement already satisfied: ee-extra>=0.0.10 in c:\\users\\aniru\\anaconda3\\lib\\site-packages (from geemap) (0.0.15)\n",
      "Requirement already satisfied: numpy in c:\\users\\aniru\\anaconda3\\lib\\site-packages (from geemap) (1.21.5)\n",
      "Requirement already satisfied: ipyevents in c:\\users\\aniru\\anaconda3\\lib\\site-packages (from geemap) (2.0.1)\n",
      "Requirement already satisfied: ipyleaflet>=0.17.0 in c:\\users\\aniru\\anaconda3\\lib\\site-packages (from geemap) (0.17.2)\n",
      "Requirement already satisfied: eerepr>=0.0.4 in c:\\users\\aniru\\anaconda3\\lib\\site-packages (from geemap) (0.0.4)\n",
      "Requirement already satisfied: xyzservices in c:\\users\\aniru\\anaconda3\\lib\\site-packages (from geemap) (2023.2.0)\n",
      "Requirement already satisfied: geojson in c:\\users\\aniru\\anaconda3\\lib\\site-packages (from geemap) (3.0.1)\n",
      "Requirement already satisfied: ipywidgets<8.0.0 in c:\\users\\aniru\\anaconda3\\lib\\site-packages (from geemap) (7.6.5)\n",
      "Requirement already satisfied: pillow in c:\\users\\aniru\\anaconda3\\lib\\site-packages (from geemap) (9.2.0)\n",
      "Requirement already satisfied: colour in c:\\users\\aniru\\anaconda3\\lib\\site-packages (from geemap) (0.1.5)\n",
      "Requirement already satisfied: folium>=0.11.0 in c:\\users\\aniru\\anaconda3\\lib\\site-packages (from geemap) (0.14.0)\n",
      "Requirement already satisfied: matplotlib in c:\\users\\aniru\\anaconda3\\lib\\site-packages (from geemap) (3.5.2)\n",
      "Requirement already satisfied: python-box in c:\\users\\aniru\\anaconda3\\lib\\site-packages (from geemap) (7.0.1)\n",
      "Requirement already satisfied: geocoder in c:\\users\\aniru\\anaconda3\\lib\\site-packages (from geemap) (1.38.1)\n",
      "Requirement already satisfied: ffmpeg-python in c:\\users\\aniru\\anaconda3\\lib\\site-packages (from geemap) (0.2.0)\n",
      "Requirement already satisfied: pycrs in c:\\users\\aniru\\anaconda3\\lib\\site-packages (from geemap) (1.0.2)\n",
      "Requirement already satisfied: ipyfilechooser>=0.6.0 in c:\\users\\aniru\\anaconda3\\lib\\site-packages (from geemap) (0.6.0)\n",
      "Requirement already satisfied: geeadd>=0.5.1 in c:\\users\\aniru\\anaconda3\\lib\\site-packages (from geemap) (0.5.6)\n",
      "Requirement already satisfied: sankee>=0.1.0 in c:\\users\\aniru\\anaconda3\\lib\\site-packages (from geemap) (0.2.1)\n",
      "Requirement already satisfied: ipytree in c:\\users\\aniru\\anaconda3\\lib\\site-packages (from geemap) (0.2.2)\n",
      "Requirement already satisfied: gdown in c:\\users\\aniru\\anaconda3\\lib\\site-packages (from geemap) (4.6.4)\n",
      "Requirement already satisfied: earthengine-api>=0.1.304 in c:\\users\\aniru\\anaconda3\\lib\\site-packages (from geemap) (0.1.343)\n",
      "Requirement already satisfied: google-auth-httplib2>=0.0.3 in c:\\users\\aniru\\anaconda3\\lib\\site-packages (from earthengine-api>=0.1.304->geemap) (0.1.0)\n",
      "Requirement already satisfied: google-auth>=1.4.1 in c:\\users\\aniru\\anaconda3\\lib\\site-packages (from earthengine-api>=0.1.304->geemap) (2.16.2)\n",
      "Requirement already satisfied: google-cloud-storage in c:\\users\\aniru\\anaconda3\\lib\\site-packages (from earthengine-api>=0.1.304->geemap) (2.7.0)\n",
      "Requirement already satisfied: httplib2<1dev,>=0.9.2 in c:\\users\\aniru\\anaconda3\\lib\\site-packages (from earthengine-api>=0.1.304->geemap) (0.21.0)\n",
      "Requirement already satisfied: requests in c:\\users\\aniru\\anaconda3\\lib\\site-packages (from earthengine-api>=0.1.304->geemap) (2.28.1)\n",
      "Requirement already satisfied: google-api-python-client>=1.12.1 in c:\\users\\aniru\\anaconda3\\lib\\site-packages (from earthengine-api>=0.1.304->geemap) (2.80.0)\n",
      "Requirement already satisfied: branca>=0.6.0 in c:\\users\\aniru\\anaconda3\\lib\\site-packages (from folium>=0.11.0->geemap) (0.6.0)\n",
      "Requirement already satisfied: jinja2>=2.9 in c:\\users\\aniru\\anaconda3\\lib\\site-packages (from folium>=0.11.0->geemap) (2.11.3)\n",
      "Requirement already satisfied: beautifulsoup4>=4.9.0 in c:\\users\\aniru\\anaconda3\\lib\\site-packages (from geeadd>=0.5.1->geemap) (4.11.1)\n",
      "Requirement already satisfied: logzero>=1.5.0 in c:\\users\\aniru\\anaconda3\\lib\\site-packages (from geeadd>=0.5.1->geemap) (1.7.0)\n",
      "Requirement already satisfied: traittypes<3,>=0.2.1 in c:\\users\\aniru\\anaconda3\\lib\\site-packages (from ipyleaflet>=0.17.0->geemap) (0.2.1)\n",
      "Requirement already satisfied: widgetsnbextension~=3.5.0 in c:\\users\\aniru\\anaconda3\\lib\\site-packages (from ipywidgets<8.0.0->geemap) (3.5.2)\n",
      "Requirement already satisfied: jupyterlab-widgets>=1.0.0 in c:\\users\\aniru\\anaconda3\\lib\\site-packages (from ipywidgets<8.0.0->geemap) (1.0.0)\n",
      "Requirement already satisfied: nbformat>=4.2.0 in c:\\users\\aniru\\anaconda3\\lib\\site-packages (from ipywidgets<8.0.0->geemap) (5.5.0)\n",
      "Requirement already satisfied: traitlets>=4.3.1 in c:\\users\\aniru\\anaconda3\\lib\\site-packages (from ipywidgets<8.0.0->geemap) (5.1.1)\n",
      "Requirement already satisfied: ipykernel>=4.5.1 in c:\\users\\aniru\\anaconda3\\lib\\site-packages (from ipywidgets<8.0.0->geemap) (6.15.2)\n",
      "Requirement already satisfied: ipython-genutils~=0.2.0 in c:\\users\\aniru\\anaconda3\\lib\\site-packages (from ipywidgets<8.0.0->geemap) (0.2.0)\n",
      "Requirement already satisfied: ipython>=4.0.0 in c:\\users\\aniru\\anaconda3\\lib\\site-packages (from ipywidgets<8.0.0->geemap) (7.31.1)\n",
      "Requirement already satisfied: plotly>=5.2.2 in c:\\users\\aniru\\anaconda3\\lib\\site-packages (from sankee>=0.1.0->geemap) (5.9.0)\n",
      "Requirement already satisfied: whitebox in c:\\users\\aniru\\anaconda3\\lib\\site-packages (from whiteboxgui>=0.6.0->geemap) (2.2.0)\n",
      "Requirement already satisfied: pytz>=2020.1 in c:\\users\\aniru\\anaconda3\\lib\\site-packages (from pandas->geemap) (2022.1)\n",
      "Requirement already satisfied: python-dateutil>=2.8.1 in c:\\users\\aniru\\anaconda3\\lib\\site-packages (from pandas->geemap) (2.8.2)\n",
      "Requirement already satisfied: future in c:\\users\\aniru\\anaconda3\\lib\\site-packages (from ffmpeg-python->geemap) (0.18.2)\n",
      "Requirement already satisfied: filelock in c:\\users\\aniru\\anaconda3\\lib\\site-packages (from gdown->geemap) (3.6.0)\n",
      "Requirement already satisfied: six in c:\\users\\aniru\\anaconda3\\lib\\site-packages (from gdown->geemap) (1.16.0)\n",
      "Requirement already satisfied: tqdm in c:\\users\\aniru\\anaconda3\\lib\\site-packages (from gdown->geemap) (4.64.1)\n",
      "Requirement already satisfied: ratelim in c:\\users\\aniru\\anaconda3\\lib\\site-packages (from geocoder->geemap) (0.1.6)\n",
      "Requirement already satisfied: click in c:\\users\\aniru\\anaconda3\\lib\\site-packages (from geocoder->geemap) (8.0.4)\n",
      "Requirement already satisfied: kiwisolver>=1.0.1 in c:\\users\\aniru\\anaconda3\\lib\\site-packages (from matplotlib->geemap) (1.4.2)\n",
      "Requirement already satisfied: packaging>=20.0 in c:\\users\\aniru\\anaconda3\\lib\\site-packages (from matplotlib->geemap) (21.3)\n",
      "Requirement already satisfied: fonttools>=4.22.0 in c:\\users\\aniru\\anaconda3\\lib\\site-packages (from matplotlib->geemap) (4.25.0)\n",
      "Requirement already satisfied: pyparsing>=2.2.1 in c:\\users\\aniru\\anaconda3\\lib\\site-packages (from matplotlib->geemap) (3.0.9)\n",
      "Requirement already satisfied: cycler>=0.10 in c:\\users\\aniru\\anaconda3\\lib\\site-packages (from matplotlib->geemap) (0.11.0)\n",
      "Requirement already satisfied: soupsieve>1.2 in c:\\users\\aniru\\anaconda3\\lib\\site-packages (from beautifulsoup4>=4.9.0->geeadd>=0.5.1->geemap) (2.3.1)\n",
      "Requirement already satisfied: uritemplate<5,>=3.0.1 in c:\\users\\aniru\\anaconda3\\lib\\site-packages (from google-api-python-client>=1.12.1->earthengine-api>=0.1.304->geemap) (4.1.1)\n",
      "Requirement already satisfied: google-api-core!=2.0.*,!=2.1.*,!=2.2.*,!=2.3.0,<3.0.0dev,>=1.31.5 in c:\\users\\aniru\\anaconda3\\lib\\site-packages (from google-api-python-client>=1.12.1->earthengine-api>=0.1.304->geemap) (2.11.0)\n",
      "Requirement already satisfied: rsa<5,>=3.1.4 in c:\\users\\aniru\\anaconda3\\lib\\site-packages (from google-auth>=1.4.1->earthengine-api>=0.1.304->geemap) (4.9)\n",
      "Requirement already satisfied: cachetools<6.0,>=2.0.0 in c:\\users\\aniru\\anaconda3\\lib\\site-packages (from google-auth>=1.4.1->earthengine-api>=0.1.304->geemap) (5.3.0)\n",
      "Requirement already satisfied: pyasn1-modules>=0.2.1 in c:\\users\\aniru\\anaconda3\\lib\\site-packages (from google-auth>=1.4.1->earthengine-api>=0.1.304->geemap) (0.2.8)\n",
      "Requirement already satisfied: psutil in c:\\users\\aniru\\anaconda3\\lib\\site-packages (from ipykernel>=4.5.1->ipywidgets<8.0.0->geemap) (5.9.0)\n",
      "Requirement already satisfied: jupyter-client>=6.1.12 in c:\\users\\aniru\\anaconda3\\lib\\site-packages (from ipykernel>=4.5.1->ipywidgets<8.0.0->geemap) (7.3.4)\n",
      "Requirement already satisfied: tornado>=6.1 in c:\\users\\aniru\\anaconda3\\lib\\site-packages (from ipykernel>=4.5.1->ipywidgets<8.0.0->geemap) (6.1)\n",
      "Requirement already satisfied: nest-asyncio in c:\\users\\aniru\\anaconda3\\lib\\site-packages (from ipykernel>=4.5.1->ipywidgets<8.0.0->geemap) (1.5.5)\n",
      "Requirement already satisfied: pyzmq>=17 in c:\\users\\aniru\\anaconda3\\lib\\site-packages (from ipykernel>=4.5.1->ipywidgets<8.0.0->geemap) (23.2.0)\n",
      "Requirement already satisfied: debugpy>=1.0 in c:\\users\\aniru\\anaconda3\\lib\\site-packages (from ipykernel>=4.5.1->ipywidgets<8.0.0->geemap) (1.5.1)\n",
      "Requirement already satisfied: matplotlib-inline>=0.1 in c:\\users\\aniru\\anaconda3\\lib\\site-packages (from ipykernel>=4.5.1->ipywidgets<8.0.0->geemap) (0.1.6)\n",
      "Requirement already satisfied: decorator in c:\\users\\aniru\\anaconda3\\lib\\site-packages (from ipython>=4.0.0->ipywidgets<8.0.0->geemap) (5.1.1)\n",
      "Requirement already satisfied: jedi>=0.16 in c:\\users\\aniru\\anaconda3\\lib\\site-packages (from ipython>=4.0.0->ipywidgets<8.0.0->geemap) (0.18.1)\n",
      "Requirement already satisfied: pickleshare in c:\\users\\aniru\\anaconda3\\lib\\site-packages (from ipython>=4.0.0->ipywidgets<8.0.0->geemap) (0.7.5)\n",
      "Requirement already satisfied: setuptools>=18.5 in c:\\users\\aniru\\anaconda3\\lib\\site-packages (from ipython>=4.0.0->ipywidgets<8.0.0->geemap) (63.4.1)\n",
      "Requirement already satisfied: colorama in c:\\users\\aniru\\anaconda3\\lib\\site-packages (from ipython>=4.0.0->ipywidgets<8.0.0->geemap) (0.4.5)\n",
      "Requirement already satisfied: prompt-toolkit!=3.0.0,!=3.0.1,<3.1.0,>=2.0.0 in c:\\users\\aniru\\anaconda3\\lib\\site-packages (from ipython>=4.0.0->ipywidgets<8.0.0->geemap) (3.0.20)\n",
      "Requirement already satisfied: pygments in c:\\users\\aniru\\anaconda3\\lib\\site-packages (from ipython>=4.0.0->ipywidgets<8.0.0->geemap) (2.11.2)\n",
      "Requirement already satisfied: backcall in c:\\users\\aniru\\anaconda3\\lib\\site-packages (from ipython>=4.0.0->ipywidgets<8.0.0->geemap) (0.2.0)\n",
      "Requirement already satisfied: MarkupSafe>=0.23 in c:\\users\\aniru\\anaconda3\\lib\\site-packages (from jinja2>=2.9->folium>=0.11.0->geemap) (2.0.1)\n",
      "Requirement already satisfied: jupyter_core in c:\\users\\aniru\\anaconda3\\lib\\site-packages (from nbformat>=4.2.0->ipywidgets<8.0.0->geemap) (4.11.1)\n",
      "Requirement already satisfied: fastjsonschema in c:\\users\\aniru\\anaconda3\\lib\\site-packages (from nbformat>=4.2.0->ipywidgets<8.0.0->geemap) (2.16.2)\n",
      "Requirement already satisfied: jsonschema>=2.6 in c:\\users\\aniru\\anaconda3\\lib\\site-packages (from nbformat>=4.2.0->ipywidgets<8.0.0->geemap) (4.16.0)\n",
      "Requirement already satisfied: tenacity>=6.2.0 in c:\\users\\aniru\\anaconda3\\lib\\site-packages (from plotly>=5.2.2->sankee>=0.1.0->geemap) (8.0.1)\n",
      "Requirement already satisfied: idna<4,>=2.5 in c:\\users\\aniru\\anaconda3\\lib\\site-packages (from requests->earthengine-api>=0.1.304->geemap) (3.3)\n",
      "Requirement already satisfied: certifi>=2017.4.17 in c:\\users\\aniru\\anaconda3\\lib\\site-packages (from requests->earthengine-api>=0.1.304->geemap) (2022.9.14)\n",
      "Requirement already satisfied: charset-normalizer<3,>=2 in c:\\users\\aniru\\anaconda3\\lib\\site-packages (from requests->earthengine-api>=0.1.304->geemap) (2.0.4)\n",
      "Requirement already satisfied: urllib3<1.27,>=1.21.1 in c:\\users\\aniru\\anaconda3\\lib\\site-packages (from requests->earthengine-api>=0.1.304->geemap) (1.26.11)\n",
      "Requirement already satisfied: notebook>=4.4.1 in c:\\users\\aniru\\anaconda3\\lib\\site-packages (from widgetsnbextension~=3.5.0->ipywidgets<8.0.0->geemap) (6.4.12)\n",
      "Requirement already satisfied: google-resumable-media>=2.3.2 in c:\\users\\aniru\\anaconda3\\lib\\site-packages (from google-cloud-storage->earthengine-api>=0.1.304->geemap) (2.4.1)\n",
      "Requirement already satisfied: google-cloud-core<3.0dev,>=2.3.0 in c:\\users\\aniru\\anaconda3\\lib\\site-packages (from google-cloud-storage->earthengine-api>=0.1.304->geemap) (2.3.2)\n",
      "Requirement already satisfied: PySocks!=1.5.7,>=1.5.6 in c:\\users\\aniru\\anaconda3\\lib\\site-packages (from requests->earthengine-api>=0.1.304->geemap) (1.7.1)\n",
      "Requirement already satisfied: protobuf!=3.20.0,!=3.20.1,!=4.21.0,!=4.21.1,!=4.21.2,!=4.21.3,!=4.21.4,!=4.21.5,<5.0.0dev,>=3.19.5 in c:\\users\\aniru\\anaconda3\\lib\\site-packages (from google-api-core!=2.0.*,!=2.1.*,!=2.2.*,!=2.3.0,<3.0.0dev,>=1.31.5->google-api-python-client>=1.12.1->earthengine-api>=0.1.304->geemap) (4.22.0)\n",
      "Requirement already satisfied: googleapis-common-protos<2.0dev,>=1.56.2 in c:\\users\\aniru\\anaconda3\\lib\\site-packages (from google-api-core!=2.0.*,!=2.1.*,!=2.2.*,!=2.3.0,<3.0.0dev,>=1.31.5->google-api-python-client>=1.12.1->earthengine-api>=0.1.304->geemap) (1.58.0)\n",
      "Requirement already satisfied: google-crc32c<2.0dev,>=1.0 in c:\\users\\aniru\\anaconda3\\lib\\site-packages (from google-resumable-media>=2.3.2->google-cloud-storage->earthengine-api>=0.1.304->geemap) (1.5.0)\n",
      "Requirement already satisfied: parso<0.9.0,>=0.8.0 in c:\\users\\aniru\\anaconda3\\lib\\site-packages (from jedi>=0.16->ipython>=4.0.0->ipywidgets<8.0.0->geemap) (0.8.3)\n",
      "Requirement already satisfied: attrs>=17.4.0 in c:\\users\\aniru\\anaconda3\\lib\\site-packages (from jsonschema>=2.6->nbformat>=4.2.0->ipywidgets<8.0.0->geemap) (21.4.0)\n",
      "Requirement already satisfied: pyrsistent!=0.17.0,!=0.17.1,!=0.17.2,>=0.14.0 in c:\\users\\aniru\\anaconda3\\lib\\site-packages (from jsonschema>=2.6->nbformat>=4.2.0->ipywidgets<8.0.0->geemap) (0.18.0)\n",
      "Requirement already satisfied: entrypoints in c:\\users\\aniru\\anaconda3\\lib\\site-packages (from jupyter-client>=6.1.12->ipykernel>=4.5.1->ipywidgets<8.0.0->geemap) (0.4)\n",
      "Requirement already satisfied: pywin32>=1.0 in c:\\users\\aniru\\anaconda3\\lib\\site-packages (from jupyter_core->nbformat>=4.2.0->ipywidgets<8.0.0->geemap) (302)\n",
      "Requirement already satisfied: nbconvert>=5 in c:\\users\\aniru\\anaconda3\\lib\\site-packages (from notebook>=4.4.1->widgetsnbextension~=3.5.0->ipywidgets<8.0.0->geemap) (6.4.4)\n",
      "Requirement already satisfied: Send2Trash>=1.8.0 in c:\\users\\aniru\\anaconda3\\lib\\site-packages (from notebook>=4.4.1->widgetsnbextension~=3.5.0->ipywidgets<8.0.0->geemap) (1.8.0)\n",
      "Requirement already satisfied: terminado>=0.8.3 in c:\\users\\aniru\\anaconda3\\lib\\site-packages (from notebook>=4.4.1->widgetsnbextension~=3.5.0->ipywidgets<8.0.0->geemap) (0.13.1)\n",
      "Requirement already satisfied: prometheus-client in c:\\users\\aniru\\anaconda3\\lib\\site-packages (from notebook>=4.4.1->widgetsnbextension~=3.5.0->ipywidgets<8.0.0->geemap) (0.14.1)\n",
      "Requirement already satisfied: argon2-cffi in c:\\users\\aniru\\anaconda3\\lib\\site-packages (from notebook>=4.4.1->widgetsnbextension~=3.5.0->ipywidgets<8.0.0->geemap) (21.3.0)\n",
      "Requirement already satisfied: wcwidth in c:\\users\\aniru\\anaconda3\\lib\\site-packages (from prompt-toolkit!=3.0.0,!=3.0.1,<3.1.0,>=2.0.0->ipython>=4.0.0->ipywidgets<8.0.0->geemap) (0.2.5)\n",
      "Requirement already satisfied: pyasn1<0.5.0,>=0.4.6 in c:\\users\\aniru\\anaconda3\\lib\\site-packages (from pyasn1-modules>=0.2.1->google-auth>=1.4.1->earthengine-api>=0.1.304->geemap) (0.4.8)\n",
      "Requirement already satisfied: nbclient<0.6.0,>=0.5.0 in c:\\users\\aniru\\anaconda3\\lib\\site-packages (from nbconvert>=5->notebook>=4.4.1->widgetsnbextension~=3.5.0->ipywidgets<8.0.0->geemap) (0.5.13)\n",
      "Requirement already satisfied: defusedxml in c:\\users\\aniru\\anaconda3\\lib\\site-packages (from nbconvert>=5->notebook>=4.4.1->widgetsnbextension~=3.5.0->ipywidgets<8.0.0->geemap) (0.7.1)\n",
      "Requirement already satisfied: pandocfilters>=1.4.1 in c:\\users\\aniru\\anaconda3\\lib\\site-packages (from nbconvert>=5->notebook>=4.4.1->widgetsnbextension~=3.5.0->ipywidgets<8.0.0->geemap) (1.5.0)\n",
      "Requirement already satisfied: mistune<2,>=0.8.1 in c:\\users\\aniru\\anaconda3\\lib\\site-packages (from nbconvert>=5->notebook>=4.4.1->widgetsnbextension~=3.5.0->ipywidgets<8.0.0->geemap) (0.8.4)\n",
      "Requirement already satisfied: testpath in c:\\users\\aniru\\anaconda3\\lib\\site-packages (from nbconvert>=5->notebook>=4.4.1->widgetsnbextension~=3.5.0->ipywidgets<8.0.0->geemap) (0.6.0)\n",
      "Requirement already satisfied: bleach in c:\\users\\aniru\\anaconda3\\lib\\site-packages (from nbconvert>=5->notebook>=4.4.1->widgetsnbextension~=3.5.0->ipywidgets<8.0.0->geemap) (4.1.0)\n",
      "Requirement already satisfied: jupyterlab-pygments in c:\\users\\aniru\\anaconda3\\lib\\site-packages (from nbconvert>=5->notebook>=4.4.1->widgetsnbextension~=3.5.0->ipywidgets<8.0.0->geemap) (0.1.2)\n",
      "Requirement already satisfied: pywinpty>=1.1.0 in c:\\users\\aniru\\anaconda3\\lib\\site-packages (from terminado>=0.8.3->notebook>=4.4.1->widgetsnbextension~=3.5.0->ipywidgets<8.0.0->geemap) (2.0.2)\n",
      "Requirement already satisfied: argon2-cffi-bindings in c:\\users\\aniru\\anaconda3\\lib\\site-packages (from argon2-cffi->notebook>=4.4.1->widgetsnbextension~=3.5.0->ipywidgets<8.0.0->geemap) (21.2.0)\n",
      "Requirement already satisfied: cffi>=1.0.1 in c:\\users\\aniru\\anaconda3\\lib\\site-packages (from argon2-cffi-bindings->argon2-cffi->notebook>=4.4.1->widgetsnbextension~=3.5.0->ipywidgets<8.0.0->geemap) (1.15.1)\n",
      "Requirement already satisfied: webencodings in c:\\users\\aniru\\anaconda3\\lib\\site-packages (from bleach->nbconvert>=5->notebook>=4.4.1->widgetsnbextension~=3.5.0->ipywidgets<8.0.0->geemap) (0.5.1)\n",
      "Requirement already satisfied: pycparser in c:\\users\\aniru\\anaconda3\\lib\\site-packages (from cffi>=1.0.1->argon2-cffi-bindings->argon2-cffi->notebook>=4.4.1->widgetsnbextension~=3.5.0->ipywidgets<8.0.0->geemap) (2.21)\n"
     ]
    }
   ],
   "source": [
    " !pip install geemap"
   ]
  },
  {
   "cell_type": "code",
   "execution_count": 2,
   "metadata": {
    "colab": {
     "base_uri": "https://localhost:8080/"
    },
    "id": "rYYQvyGZ_bwq",
    "outputId": "146cf65d-d2b9-4739-c4f1-201f339f31f8"
   },
   "outputs": [
    {
     "name": "stdout",
     "output_type": "stream",
     "text": [
      "Requirement already satisfied: geehydro in c:\\users\\aniru\\anaconda3\\lib\\site-packages (0.2.0)\n",
      "Requirement already satisfied: earthengine-api in c:\\users\\aniru\\anaconda3\\lib\\site-packages (from geehydro) (0.1.343)\n",
      "Requirement already satisfied: folium in c:\\users\\aniru\\anaconda3\\lib\\site-packages (from geehydro) (0.14.0)\n",
      "Requirement already satisfied: click in c:\\users\\aniru\\anaconda3\\lib\\site-packages (from geehydro) (8.0.4)\n",
      "Requirement already satisfied: colorama in c:\\users\\aniru\\anaconda3\\lib\\site-packages (from click->geehydro) (0.4.5)\n",
      "Requirement already satisfied: google-auth>=1.4.1 in c:\\users\\aniru\\anaconda3\\lib\\site-packages (from earthengine-api->geehydro) (2.16.2)\n",
      "Requirement already satisfied: google-cloud-storage in c:\\users\\aniru\\anaconda3\\lib\\site-packages (from earthengine-api->geehydro) (2.7.0)\n",
      "Requirement already satisfied: google-api-python-client>=1.12.1 in c:\\users\\aniru\\anaconda3\\lib\\site-packages (from earthengine-api->geehydro) (2.80.0)\n",
      "Requirement already satisfied: google-auth-httplib2>=0.0.3 in c:\\users\\aniru\\anaconda3\\lib\\site-packages (from earthengine-api->geehydro) (0.1.0)\n",
      "Requirement already satisfied: httplib2<1dev,>=0.9.2 in c:\\users\\aniru\\anaconda3\\lib\\site-packages (from earthengine-api->geehydro) (0.21.0)\n",
      "Requirement already satisfied: requests in c:\\users\\aniru\\anaconda3\\lib\\site-packages (from earthengine-api->geehydro) (2.28.1)\n",
      "Requirement already satisfied: numpy in c:\\users\\aniru\\anaconda3\\lib\\site-packages (from folium->geehydro) (1.21.5)\n",
      "Requirement already satisfied: branca>=0.6.0 in c:\\users\\aniru\\anaconda3\\lib\\site-packages (from folium->geehydro) (0.6.0)\n",
      "Requirement already satisfied: jinja2>=2.9 in c:\\users\\aniru\\anaconda3\\lib\\site-packages (from folium->geehydro) (2.11.3)\n",
      "Requirement already satisfied: uritemplate<5,>=3.0.1 in c:\\users\\aniru\\anaconda3\\lib\\site-packages (from google-api-python-client>=1.12.1->earthengine-api->geehydro) (4.1.1)\n",
      "Requirement already satisfied: google-api-core!=2.0.*,!=2.1.*,!=2.2.*,!=2.3.0,<3.0.0dev,>=1.31.5 in c:\\users\\aniru\\anaconda3\\lib\\site-packages (from google-api-python-client>=1.12.1->earthengine-api->geehydro) (2.11.0)\n",
      "Requirement already satisfied: six>=1.9.0 in c:\\users\\aniru\\anaconda3\\lib\\site-packages (from google-auth>=1.4.1->earthengine-api->geehydro) (1.16.0)\n",
      "Requirement already satisfied: cachetools<6.0,>=2.0.0 in c:\\users\\aniru\\anaconda3\\lib\\site-packages (from google-auth>=1.4.1->earthengine-api->geehydro) (5.3.0)\n",
      "Requirement already satisfied: pyasn1-modules>=0.2.1 in c:\\users\\aniru\\anaconda3\\lib\\site-packages (from google-auth>=1.4.1->earthengine-api->geehydro) (0.2.8)\n",
      "Requirement already satisfied: rsa<5,>=3.1.4 in c:\\users\\aniru\\anaconda3\\lib\\site-packages (from google-auth>=1.4.1->earthengine-api->geehydro) (4.9)\n",
      "Requirement already satisfied: pyparsing!=3.0.0,!=3.0.1,!=3.0.2,!=3.0.3,<4,>=2.4.2 in c:\\users\\aniru\\anaconda3\\lib\\site-packages (from httplib2<1dev,>=0.9.2->earthengine-api->geehydro) (3.0.9)\n",
      "Requirement already satisfied: MarkupSafe>=0.23 in c:\\users\\aniru\\anaconda3\\lib\\site-packages (from jinja2>=2.9->folium->geehydro) (2.0.1)\n",
      "Requirement already satisfied: google-resumable-media>=2.3.2 in c:\\users\\aniru\\anaconda3\\lib\\site-packages (from google-cloud-storage->earthengine-api->geehydro) (2.4.1)\n",
      "Requirement already satisfied: google-cloud-core<3.0dev,>=2.3.0 in c:\\users\\aniru\\anaconda3\\lib\\site-packages (from google-cloud-storage->earthengine-api->geehydro) (2.3.2)\n",
      "Requirement already satisfied: idna<4,>=2.5 in c:\\users\\aniru\\anaconda3\\lib\\site-packages (from requests->earthengine-api->geehydro) (3.3)\n",
      "Requirement already satisfied: charset-normalizer<3,>=2 in c:\\users\\aniru\\anaconda3\\lib\\site-packages (from requests->earthengine-api->geehydro) (2.0.4)\n",
      "Requirement already satisfied: certifi>=2017.4.17 in c:\\users\\aniru\\anaconda3\\lib\\site-packages (from requests->earthengine-api->geehydro) (2022.9.14)\n",
      "Requirement already satisfied: urllib3<1.27,>=1.21.1 in c:\\users\\aniru\\anaconda3\\lib\\site-packages (from requests->earthengine-api->geehydro) (1.26.11)\n",
      "Requirement already satisfied: protobuf!=3.20.0,!=3.20.1,!=4.21.0,!=4.21.1,!=4.21.2,!=4.21.3,!=4.21.4,!=4.21.5,<5.0.0dev,>=3.19.5 in c:\\users\\aniru\\anaconda3\\lib\\site-packages (from google-api-core!=2.0.*,!=2.1.*,!=2.2.*,!=2.3.0,<3.0.0dev,>=1.31.5->google-api-python-client>=1.12.1->earthengine-api->geehydro) (4.22.0)\n",
      "Requirement already satisfied: googleapis-common-protos<2.0dev,>=1.56.2 in c:\\users\\aniru\\anaconda3\\lib\\site-packages (from google-api-core!=2.0.*,!=2.1.*,!=2.2.*,!=2.3.0,<3.0.0dev,>=1.31.5->google-api-python-client>=1.12.1->earthengine-api->geehydro) (1.58.0)\n",
      "Requirement already satisfied: google-crc32c<2.0dev,>=1.0 in c:\\users\\aniru\\anaconda3\\lib\\site-packages (from google-resumable-media>=2.3.2->google-cloud-storage->earthengine-api->geehydro) (1.5.0)\n",
      "Requirement already satisfied: pyasn1<0.5.0,>=0.4.6 in c:\\users\\aniru\\anaconda3\\lib\\site-packages (from pyasn1-modules>=0.2.1->google-auth>=1.4.1->earthengine-api->geehydro) (0.4.8)\n"
     ]
    }
   ],
   "source": [
    "!pip install geehydro"
   ]
  },
  {
   "cell_type": "code",
   "execution_count": 3,
   "metadata": {
    "id": "L5RHI156-0DL"
   },
   "outputs": [],
   "source": [
    "import ee, datetime\n",
    "import pandas as pd\n",
    "import numpy as np\n",
    "import folium\n",
    "import geehydro\n",
    "import datetime as dt\n",
    "import IPython.display\n"
   ]
  },
  {
   "cell_type": "markdown",
   "metadata": {
    "id": "E6fwt1RE2uMl"
   },
   "source": [
    "## Authentication and Intialisation"
   ]
  },
  {
   "cell_type": "code",
   "execution_count": 4,
   "metadata": {
    "colab": {
     "base_uri": "https://localhost:8080/"
    },
    "id": "kN493at7Dnyr",
    "outputId": "41e597fd-9e58-4fd3-de5b-8c2b9854015c"
   },
   "outputs": [
    {
     "data": {
      "text/html": [
       "<p>To authorize access needed by Earth Engine, open the following\n",
       "        URL in a web browser and follow the instructions:</p>\n",
       "        <p><a href=https://code.earthengine.google.com/client-auth?scopes=https%3A//www.googleapis.com/auth/earthengine%20https%3A//www.googleapis.com/auth/devstorage.full_control&request_id=S0Kus2e6mbXtHmyf0Vm2e79dDQgAXqL1zOAxpH2Ebsk&tc=N1zNzp56EDrFK3DQ1VtYgogJE-tvNVWr60KG-9cGULY&cc=YycGMbCC8x897nhuoW9-hTnq9p8Rug9ukIHGRSj1uU4>https://code.earthengine.google.com/client-auth?scopes=https%3A//www.googleapis.com/auth/earthengine%20https%3A//www.googleapis.com/auth/devstorage.full_control&request_id=S0Kus2e6mbXtHmyf0Vm2e79dDQgAXqL1zOAxpH2Ebsk&tc=N1zNzp56EDrFK3DQ1VtYgogJE-tvNVWr60KG-9cGULY&cc=YycGMbCC8x897nhuoW9-hTnq9p8Rug9ukIHGRSj1uU4</a></p>\n",
       "        <p>The authorization workflow will generate a code, which you should paste in the box below.</p>\n",
       "        "
      ],
      "text/plain": [
       "<IPython.core.display.HTML object>"
      ]
     },
     "metadata": {},
     "output_type": "display_data"
    },
    {
     "name": "stdout",
     "output_type": "stream",
     "text": [
      "Enter verification code: 4/1AWtgzh5YLko9uNIZynANwZKBgpCi2OVxQolNX1mgqkFlgIWdxVdFchsVhJg\n",
      "\n",
      "Successfully saved authorization token.\n"
     ]
    }
   ],
   "source": [
    "ee.Authenticate()\n",
    "ee.Initialize()"
   ]
  },
  {
   "cell_type": "markdown",
   "metadata": {
    "id": "RQVXfObbAJPK"
   },
   "source": [
    "## Selecting the area of Interest"
   ]
  },
  {
   "cell_type": "code",
   "execution_count": 5,
   "metadata": {
    "id": "kOT2BD9HAMkr"
   },
   "outputs": [],
   "source": [
    "lendiya = folium.Map(location=[23.244061109840693,77.47089584472357], zoom_start=10)\n"
   ]
  },
  {
   "cell_type": "code",
   "execution_count": 6,
   "metadata": {
    "colab": {
     "base_uri": "https://localhost:8080/",
     "height": 685
    },
    "id": "Szy5CbppAeF1",
    "outputId": "fa8957e7-ea45-4b5f-ef64-4ad4cf88f6ff"
   },
   "outputs": [
    {
     "data": {
      "text/html": [
       "<div style=\"width:100%;\"><div style=\"position:relative;width:100%;height:0;padding-bottom:60%;\"><span style=\"color:#565656\">Make this Notebook Trusted to load map: File -> Trust Notebook</span><iframe srcdoc=\"&lt;!DOCTYPE html&gt;\n",
       "&lt;html&gt;\n",
       "&lt;head&gt;\n",
       "    \n",
       "    &lt;meta http-equiv=&quot;content-type&quot; content=&quot;text/html; charset=UTF-8&quot; /&gt;\n",
       "    \n",
       "        &lt;script&gt;\n",
       "            L_NO_TOUCH = false;\n",
       "            L_DISABLE_3D = false;\n",
       "        &lt;/script&gt;\n",
       "    \n",
       "    &lt;style&gt;html, body {width: 100%;height: 100%;margin: 0;padding: 0;}&lt;/style&gt;\n",
       "    &lt;style&gt;#map {position:absolute;top:0;bottom:0;right:0;left:0;}&lt;/style&gt;\n",
       "    &lt;script src=&quot;https://cdn.jsdelivr.net/npm/leaflet@1.9.3/dist/leaflet.js&quot;&gt;&lt;/script&gt;\n",
       "    &lt;script src=&quot;https://code.jquery.com/jquery-1.12.4.min.js&quot;&gt;&lt;/script&gt;\n",
       "    &lt;script src=&quot;https://cdn.jsdelivr.net/npm/bootstrap@5.2.2/dist/js/bootstrap.bundle.min.js&quot;&gt;&lt;/script&gt;\n",
       "    &lt;script src=&quot;https://cdnjs.cloudflare.com/ajax/libs/Leaflet.awesome-markers/2.0.2/leaflet.awesome-markers.js&quot;&gt;&lt;/script&gt;\n",
       "    &lt;link rel=&quot;stylesheet&quot; href=&quot;https://cdn.jsdelivr.net/npm/leaflet@1.9.3/dist/leaflet.css&quot;/&gt;\n",
       "    &lt;link rel=&quot;stylesheet&quot; href=&quot;https://cdn.jsdelivr.net/npm/bootstrap@5.2.2/dist/css/bootstrap.min.css&quot;/&gt;\n",
       "    &lt;link rel=&quot;stylesheet&quot; href=&quot;https://netdna.bootstrapcdn.com/bootstrap/3.0.0/css/bootstrap.min.css&quot;/&gt;\n",
       "    &lt;link rel=&quot;stylesheet&quot; href=&quot;https://cdn.jsdelivr.net/npm/@fortawesome/fontawesome-free@6.2.0/css/all.min.css&quot;/&gt;\n",
       "    &lt;link rel=&quot;stylesheet&quot; href=&quot;https://cdnjs.cloudflare.com/ajax/libs/Leaflet.awesome-markers/2.0.2/leaflet.awesome-markers.css&quot;/&gt;\n",
       "    &lt;link rel=&quot;stylesheet&quot; href=&quot;https://cdn.jsdelivr.net/gh/python-visualization/folium/folium/templates/leaflet.awesome.rotate.min.css&quot;/&gt;\n",
       "    \n",
       "            &lt;meta name=&quot;viewport&quot; content=&quot;width=device-width,\n",
       "                initial-scale=1.0, maximum-scale=1.0, user-scalable=no&quot; /&gt;\n",
       "            &lt;style&gt;\n",
       "                #map_05a1fc8e1429181a7d11264356e01c47 {\n",
       "                    position: relative;\n",
       "                    width: 100.0%;\n",
       "                    height: 100.0%;\n",
       "                    left: 0.0%;\n",
       "                    top: 0.0%;\n",
       "                }\n",
       "                .leaflet-container { font-size: 1rem; }\n",
       "            &lt;/style&gt;\n",
       "        \n",
       "&lt;/head&gt;\n",
       "&lt;body&gt;\n",
       "    \n",
       "    \n",
       "            &lt;div class=&quot;folium-map&quot; id=&quot;map_05a1fc8e1429181a7d11264356e01c47&quot; &gt;&lt;/div&gt;\n",
       "        \n",
       "&lt;/body&gt;\n",
       "&lt;script&gt;\n",
       "    \n",
       "    \n",
       "            var map_05a1fc8e1429181a7d11264356e01c47 = L.map(\n",
       "                &quot;map_05a1fc8e1429181a7d11264356e01c47&quot;,\n",
       "                {\n",
       "                    center: [23.244061109840693, 77.47089584472357],\n",
       "                    crs: L.CRS.EPSG3857,\n",
       "                    zoom: 10,\n",
       "                    zoomControl: true,\n",
       "                    preferCanvas: false,\n",
       "                }\n",
       "            );\n",
       "\n",
       "            \n",
       "\n",
       "        \n",
       "    \n",
       "            var tile_layer_5b89aa891463ca3c773b9665abb2cded = L.tileLayer(\n",
       "                &quot;https://{s}.tile.openstreetmap.org/{z}/{x}/{y}.png&quot;,\n",
       "                {&quot;attribution&quot;: &quot;Data by \\u0026copy; \\u003ca target=\\&quot;_blank\\&quot; href=\\&quot;http://openstreetmap.org\\&quot;\\u003eOpenStreetMap\\u003c/a\\u003e, under \\u003ca target=\\&quot;_blank\\&quot; href=\\&quot;http://www.openstreetmap.org/copyright\\&quot;\\u003eODbL\\u003c/a\\u003e.&quot;, &quot;detectRetina&quot;: false, &quot;maxNativeZoom&quot;: 18, &quot;maxZoom&quot;: 18, &quot;minZoom&quot;: 0, &quot;noWrap&quot;: false, &quot;opacity&quot;: 1, &quot;subdomains&quot;: &quot;abc&quot;, &quot;tms&quot;: false}\n",
       "            ).addTo(map_05a1fc8e1429181a7d11264356e01c47);\n",
       "        \n",
       "&lt;/script&gt;\n",
       "&lt;/html&gt;\" style=\"position:absolute;width:100%;height:100%;left:0;top:0;border:none !important;\" allowfullscreen webkitallowfullscreen mozallowfullscreen></iframe></div></div>"
      ],
      "text/plain": [
       "<folium.folium.Map at 0x2c425b1eb50>"
      ]
     },
     "execution_count": 6,
     "metadata": {},
     "output_type": "execute_result"
    }
   ],
   "source": [
    "lendiya"
   ]
  },
  {
   "cell_type": "markdown",
   "metadata": {
    "id": "3bRAxN2PEMHa"
   },
   "source": [
    "### Selecting the satellite and AOI\n"
   ]
  },
  {
   "cell_type": "code",
   "execution_count": 7,
   "metadata": {
    "id": "VEZt1YiwB7KL"
   },
   "outputs": [],
   "source": [
    "sentinel = ee.ImageCollection(\"COPERNICUS/S2_SR\").\\\n",
    "               filter(ee.Filter.lt('CLOUDY_PIXEL_PERCENTAGE',20)).\\\n",
    "               filterDate(\"2015-01-01\",\"2023-01-01\")\n",
    "lendiya_AOI = ee.Geometry.Polygon([[77.39023917078465, 23.27477380472318],\n",
    "          [77.39034645914525, 23.274596401498602],\n",
    "          [77.39034645914525, 23.273876930443446],\n",
    "          [77.39060395121068, 23.273847363056678],\n",
    "          [77.3905717647025, 23.27359111209644],\n",
    "          [77.3909150874564, 23.273729093443976],\n",
    "          [77.39105456232518, 23.273847363056678],\n",
    "          [77.39120476603001, 23.273876930443446],\n",
    "          [77.39134424089879, 23.27427116163988],\n",
    "          [77.39111893534154, 23.275808652157437],\n",
    "          [77.39099018930882, 23.27569038428615],\n",
    "          [77.39077561258763, 23.27569038428615],\n",
    "          [77.3904108321616, 23.275394714148526]])\n",
    "\n",
    "sentinel_AOI = sentinel.filterBounds(lendiya_AOI)\n",
    "               "
   ]
  },
  {
   "cell_type": "code",
   "execution_count": 8,
   "metadata": {
    "colab": {
     "base_uri": "https://localhost:8080/"
    },
    "id": "mfaFFbuGDf8O",
    "outputId": "d026d089-d944-4a33-c8a1-c8907c4e378b"
   },
   "outputs": [
    {
     "name": "stdout",
     "output_type": "stream",
     "text": [
      "Total number of images : 166\n"
     ]
    }
   ],
   "source": [
    "print('Total number of images :', sentinel_AOI.size().getInfo())"
   ]
  },
  {
   "cell_type": "markdown",
   "metadata": {
    "id": "kTKxja-v4Bc-"
   },
   "source": [
    "We have 166 images for Lendiya Lake.\n",
    "Now, we will create an iteration over all the images and find the different parameters "
   ]
  },
  {
   "cell_type": "markdown",
   "metadata": {
    "id": "pLgMAHqKF-4S"
   },
   "source": [
    "## **NDCI Calculation**"
   ]
  },
  {
   "cell_type": "code",
   "execution_count": null,
   "metadata": {
    "id": "BKwneNTJGAs0"
   },
   "outputs": [],
   "source": [
    "def addNDCI(image):\n",
    "  ndci = image.normalizedDifference(['B5', 'B4']).rename('NDCI')\n",
    "  return image.addBands(ndci)\n",
    "with_ndci = sentinel_AOI.map(addNDCI)  "
   ]
  },
  {
   "cell_type": "markdown",
   "metadata": {
    "id": "6vGU8v6mGZkf"
   },
   "source": [
    "### Calculating the Average NDCI on every image in the image collection"
   ]
  },
  {
   "cell_type": "code",
   "execution_count": null,
   "metadata": {
    "id": "aXKFDr9zGgvn"
   },
   "outputs": [],
   "source": [
    "def meanNDCI(image):\n",
    "  image = ee.Image(image)\n",
    "  mean = image.reduceRegion(reducer = ee.Reducer.mean().setOutputs(['NDCI']),\n",
    "                           geometry = lendiya_AOI,\n",
    "                           scale = image.projection().nominalScale().getInfo(),\n",
    "                           maxPixels = 100000,\n",
    "                           bestEffort = True);\n",
    "  return mean.get('NDCI').getInfo()"
   ]
  },
  {
   "cell_type": "code",
   "execution_count": null,
   "metadata": {
    "id": "UyBDdVnrHRkF"
   },
   "outputs": [],
   "source": [
    "Images_ndci = with_ndci.select('NDCI').toList(with_ndci.size())\n",
    "ndci_coll = []\n",
    "for i in range(Images_ndci.length().getInfo()):\n",
    "  image = ee.Image(Images_ndci.get(i-1))\n",
    "  temp_ndci = meanNDCI(image)\n",
    "  ndci_coll.append(temp_ndci)"
   ]
  },
  {
   "cell_type": "markdown",
   "metadata": {
    "id": "PAPzIwOlKJEy"
   },
   "source": [
    "## Getting Dates from the Image Collection"
   ]
  },
  {
   "cell_type": "code",
   "execution_count": null,
   "metadata": {
    "id": "ZF9sOE_vKNIO"
   },
   "outputs": [],
   "source": [
    "dates = np.array(with_ndci.aggregate_array(\"system:time_start\").getInfo())\n",
    "day = [datetime.datetime.fromtimestamp(i/1000).strftime('%Y-%m-%d') for i in (dates)]"
   ]
  },
  {
   "cell_type": "markdown",
   "metadata": {
    "id": "qs1mtWfkKr7g"
   },
   "source": [
    "### Creating the Dataframe"
   ]
  },
  {
   "cell_type": "code",
   "execution_count": null,
   "metadata": {
    "id": "bzqkW-blK-bq"
   },
   "outputs": [],
   "source": [
    "df = pd.DataFrame(ndci_coll, index = day, columns = ['Chlorophyll'])\n",
    "df.index = pd.to_datetime(df.index, format=\"%Y/%m/%d\")\n",
    "df.sort_index(ascending = True, inplace = True)"
   ]
  },
  {
   "cell_type": "code",
   "execution_count": null,
   "metadata": {
    "id": "rt3YUxSXLICd"
   },
   "outputs": [],
   "source": [
    "df"
   ]
  },
  {
   "cell_type": "code",
   "execution_count": null,
   "metadata": {
    "id": "Cq20Z-Yr2sIy"
   },
   "outputs": [],
   "source": [
    "df.to_csv('Chlorophyll.csv')"
   ]
  },
  {
   "cell_type": "markdown",
   "metadata": {
    "id": "RiteokNeMxS5"
   },
   "source": [
    "## **NDTI Calculation**"
   ]
  },
  {
   "cell_type": "code",
   "execution_count": null,
   "metadata": {
    "id": "YwkXL8qTLIvS"
   },
   "outputs": [],
   "source": [
    "def addNDTI(image):\n",
    "  ndti = image.normalizedDifference(['B4', 'B3']).rename('NDTI')\n",
    "  return image.addBands(ndti)\n",
    "with_ndti = sentinel_AOI.map(addNDTI)"
   ]
  },
  {
   "cell_type": "code",
   "execution_count": null,
   "metadata": {
    "id": "8z6d_MdSMtZ5"
   },
   "outputs": [],
   "source": [
    "def meanNDTI(image):\n",
    "  image = ee.Image(image)\n",
    "  mean = image.reduceRegion(reducer = ee.Reducer.mean().setOutputs(['NDTI']),\n",
    "                           geometry = lendiya_AOI,\n",
    "                           scale = image.projection().nominalScale().getInfo(),\n",
    "                           maxPixels = 100000,\n",
    "                           bestEffort = True);\n",
    "  return mean.get('NDTI').getInfo()"
   ]
  },
  {
   "cell_type": "code",
   "execution_count": null,
   "metadata": {
    "colab": {
     "base_uri": "https://localhost:8080/"
    },
    "id": "NfLrv-jiNGUu",
    "outputId": "8f150420-84b0-49e3-f4f4-a9f0028545b9"
   },
   "outputs": [
    {
     "name": "stderr",
     "output_type": "stream",
     "text": [
      "WARNING:googleapiclient.http:Sleeping 0.01 seconds before retry 1 of 5 for request: POST https://earthengine.googleapis.com/v1alpha/projects/earthengine-legacy/value:compute?prettyPrint=false&alt=json, after 503\n"
     ]
    }
   ],
   "source": [
    "Images_ndti = with_ndti.select('NDTI').toList(with_ndti.size())\n",
    "ndti_coll = []\n",
    "for i in range(Images_ndti.length().getInfo()):\n",
    "  image = ee.Image(Images_ndti.get(i-1))\n",
    "  temp_ndti = meanNDTI(image)\n",
    "  ndti_coll.append(temp_ndti)"
   ]
  },
  {
   "cell_type": "code",
   "execution_count": null,
   "metadata": {
    "id": "iNOjW_gNNVl8"
   },
   "outputs": [],
   "source": [
    "dates = np.array(with_ndti.aggregate_array(\"system:time_start\").getInfo())\n",
    "day = [datetime.datetime.fromtimestamp(i/1000).strftime('%Y-%m-%d') for i in (dates)]"
   ]
  },
  {
   "cell_type": "code",
   "execution_count": null,
   "metadata": {
    "id": "fxtKVdovOgJY"
   },
   "outputs": [],
   "source": [
    "df1 = pd.DataFrame(ndti_coll, index = day, columns = ['Turbidity'])\n",
    "df1.index = pd.to_datetime(df1.index, format=\"%Y/%m/%d\")\n",
    "df1.sort_index(ascending = True, inplace = True)"
   ]
  },
  {
   "cell_type": "code",
   "execution_count": null,
   "metadata": {
    "colab": {
     "base_uri": "https://localhost:8080/",
     "height": 423
    },
    "id": "VOENs_fzOkrD",
    "outputId": "f3014fe8-e64c-4dae-fa8d-b1c6e8fdd964"
   },
   "outputs": [
    {
     "data": {
      "text/html": [
       "\n",
       "  <div id=\"df-2bd0bd5f-375c-4269-8e8b-1dfb16dfc928\">\n",
       "    <div class=\"colab-df-container\">\n",
       "      <div>\n",
       "<style scoped>\n",
       "    .dataframe tbody tr th:only-of-type {\n",
       "        vertical-align: middle;\n",
       "    }\n",
       "\n",
       "    .dataframe tbody tr th {\n",
       "        vertical-align: top;\n",
       "    }\n",
       "\n",
       "    .dataframe thead th {\n",
       "        text-align: right;\n",
       "    }\n",
       "</style>\n",
       "<table border=\"1\" class=\"dataframe\">\n",
       "  <thead>\n",
       "    <tr style=\"text-align: right;\">\n",
       "      <th></th>\n",
       "      <th>Turbidity</th>\n",
       "    </tr>\n",
       "  </thead>\n",
       "  <tbody>\n",
       "    <tr>\n",
       "      <th>2018-12-18</th>\n",
       "      <td>-0.021874</td>\n",
       "    </tr>\n",
       "    <tr>\n",
       "      <th>2018-12-23</th>\n",
       "      <td>-0.123111</td>\n",
       "    </tr>\n",
       "    <tr>\n",
       "      <th>2018-12-28</th>\n",
       "      <td>-0.160459</td>\n",
       "    </tr>\n",
       "    <tr>\n",
       "      <th>2019-01-02</th>\n",
       "      <td>-0.121576</td>\n",
       "    </tr>\n",
       "    <tr>\n",
       "      <th>2019-01-07</th>\n",
       "      <td>-0.134198</td>\n",
       "    </tr>\n",
       "    <tr>\n",
       "      <th>...</th>\n",
       "      <td>...</td>\n",
       "    </tr>\n",
       "    <tr>\n",
       "      <th>2022-12-02</th>\n",
       "      <td>-0.027580</td>\n",
       "    </tr>\n",
       "    <tr>\n",
       "      <th>2022-12-07</th>\n",
       "      <td>-0.015449</td>\n",
       "    </tr>\n",
       "    <tr>\n",
       "      <th>2022-12-17</th>\n",
       "      <td>-0.016148</td>\n",
       "    </tr>\n",
       "    <tr>\n",
       "      <th>2022-12-22</th>\n",
       "      <td>-0.014442</td>\n",
       "    </tr>\n",
       "    <tr>\n",
       "      <th>2022-12-27</th>\n",
       "      <td>-0.026697</td>\n",
       "    </tr>\n",
       "  </tbody>\n",
       "</table>\n",
       "<p>166 rows × 1 columns</p>\n",
       "</div>\n",
       "      <button class=\"colab-df-convert\" onclick=\"convertToInteractive('df-2bd0bd5f-375c-4269-8e8b-1dfb16dfc928')\"\n",
       "              title=\"Convert this dataframe to an interactive table.\"\n",
       "              style=\"display:none;\">\n",
       "        \n",
       "  <svg xmlns=\"http://www.w3.org/2000/svg\" height=\"24px\"viewBox=\"0 0 24 24\"\n",
       "       width=\"24px\">\n",
       "    <path d=\"M0 0h24v24H0V0z\" fill=\"none\"/>\n",
       "    <path d=\"M18.56 5.44l.94 2.06.94-2.06 2.06-.94-2.06-.94-.94-2.06-.94 2.06-2.06.94zm-11 1L8.5 8.5l.94-2.06 2.06-.94-2.06-.94L8.5 2.5l-.94 2.06-2.06.94zm10 10l.94 2.06.94-2.06 2.06-.94-2.06-.94-.94-2.06-.94 2.06-2.06.94z\"/><path d=\"M17.41 7.96l-1.37-1.37c-.4-.4-.92-.59-1.43-.59-.52 0-1.04.2-1.43.59L10.3 9.45l-7.72 7.72c-.78.78-.78 2.05 0 2.83L4 21.41c.39.39.9.59 1.41.59.51 0 1.02-.2 1.41-.59l7.78-7.78 2.81-2.81c.8-.78.8-2.07 0-2.86zM5.41 20L4 18.59l7.72-7.72 1.47 1.35L5.41 20z\"/>\n",
       "  </svg>\n",
       "      </button>\n",
       "      \n",
       "  <style>\n",
       "    .colab-df-container {\n",
       "      display:flex;\n",
       "      flex-wrap:wrap;\n",
       "      gap: 12px;\n",
       "    }\n",
       "\n",
       "    .colab-df-convert {\n",
       "      background-color: #E8F0FE;\n",
       "      border: none;\n",
       "      border-radius: 50%;\n",
       "      cursor: pointer;\n",
       "      display: none;\n",
       "      fill: #1967D2;\n",
       "      height: 32px;\n",
       "      padding: 0 0 0 0;\n",
       "      width: 32px;\n",
       "    }\n",
       "\n",
       "    .colab-df-convert:hover {\n",
       "      background-color: #E2EBFA;\n",
       "      box-shadow: 0px 1px 2px rgba(60, 64, 67, 0.3), 0px 1px 3px 1px rgba(60, 64, 67, 0.15);\n",
       "      fill: #174EA6;\n",
       "    }\n",
       "\n",
       "    [theme=dark] .colab-df-convert {\n",
       "      background-color: #3B4455;\n",
       "      fill: #D2E3FC;\n",
       "    }\n",
       "\n",
       "    [theme=dark] .colab-df-convert:hover {\n",
       "      background-color: #434B5C;\n",
       "      box-shadow: 0px 1px 3px 1px rgba(0, 0, 0, 0.15);\n",
       "      filter: drop-shadow(0px 1px 2px rgba(0, 0, 0, 0.3));\n",
       "      fill: #FFFFFF;\n",
       "    }\n",
       "  </style>\n",
       "\n",
       "      <script>\n",
       "        const buttonEl =\n",
       "          document.querySelector('#df-2bd0bd5f-375c-4269-8e8b-1dfb16dfc928 button.colab-df-convert');\n",
       "        buttonEl.style.display =\n",
       "          google.colab.kernel.accessAllowed ? 'block' : 'none';\n",
       "\n",
       "        async function convertToInteractive(key) {\n",
       "          const element = document.querySelector('#df-2bd0bd5f-375c-4269-8e8b-1dfb16dfc928');\n",
       "          const dataTable =\n",
       "            await google.colab.kernel.invokeFunction('convertToInteractive',\n",
       "                                                     [key], {});\n",
       "          if (!dataTable) return;\n",
       "\n",
       "          const docLinkHtml = 'Like what you see? Visit the ' +\n",
       "            '<a target=\"_blank\" href=https://colab.research.google.com/notebooks/data_table.ipynb>data table notebook</a>'\n",
       "            + ' to learn more about interactive tables.';\n",
       "          element.innerHTML = '';\n",
       "          dataTable['output_type'] = 'display_data';\n",
       "          await google.colab.output.renderOutput(dataTable, element);\n",
       "          const docLink = document.createElement('div');\n",
       "          docLink.innerHTML = docLinkHtml;\n",
       "          element.appendChild(docLink);\n",
       "        }\n",
       "      </script>\n",
       "    </div>\n",
       "  </div>\n",
       "  "
      ],
      "text/plain": [
       "            Turbidity\n",
       "2018-12-18  -0.021874\n",
       "2018-12-23  -0.123111\n",
       "2018-12-28  -0.160459\n",
       "2019-01-02  -0.121576\n",
       "2019-01-07  -0.134198\n",
       "...               ...\n",
       "2022-12-02  -0.027580\n",
       "2022-12-07  -0.015449\n",
       "2022-12-17  -0.016148\n",
       "2022-12-22  -0.014442\n",
       "2022-12-27  -0.026697\n",
       "\n",
       "[166 rows x 1 columns]"
      ]
     },
     "execution_count": 22,
     "metadata": {},
     "output_type": "execute_result"
    }
   ],
   "source": [
    "df1"
   ]
  },
  {
   "cell_type": "code",
   "execution_count": null,
   "metadata": {
    "id": "ss-vvrnr3037"
   },
   "outputs": [],
   "source": [
    "df1.to_csv('Turbidity.csv')"
   ]
  },
  {
   "cell_type": "markdown",
   "metadata": {
    "id": "kP3AI8BhQVBb"
   },
   "source": [
    "## **NDSI Calculation**"
   ]
  },
  {
   "cell_type": "code",
   "execution_count": null,
   "metadata": {
    "id": "xFrSRTjmQWNN"
   },
   "outputs": [],
   "source": [
    "def addNDSI(image):\n",
    "  ndsi = image.normalizedDifference(['B11', 'B12']).rename('NDSI')\n",
    "  return image.addBands(ndsi)\n",
    "with_ndsi = sentinel_AOI.map(addNDSI)"
   ]
  },
  {
   "cell_type": "code",
   "execution_count": null,
   "metadata": {
    "id": "-NB5xGu4QrDz"
   },
   "outputs": [],
   "source": [
    "def meanNDSI(image):\n",
    "  image = ee.Image(image)\n",
    "  mean = image.reduceRegion(reducer = ee.Reducer.mean().setOutputs(['NDSI']),\n",
    "                           geometry = lendiya_AOI,\n",
    "                           scale = image.projection().nominalScale().getInfo(),\n",
    "                           maxPixels = 100000,\n",
    "                           bestEffort = True);\n",
    "  return mean.get('NDSI').getInfo()"
   ]
  },
  {
   "cell_type": "code",
   "execution_count": null,
   "metadata": {
    "id": "IYlsHYXLQxtT"
   },
   "outputs": [],
   "source": [
    "Images_ndsi = with_ndsi.select('NDSI').toList(with_ndsi.size())\n",
    "ndsi_coll = []\n",
    "for i in range(Images_ndsi.length().getInfo()):\n",
    "  image = ee.Image(Images_ndsi.get(i-1))\n",
    "  temp_ndsi = meanNDSI(image)\n",
    "  ndsi_coll.append(temp_ndsi)"
   ]
  },
  {
   "cell_type": "code",
   "execution_count": null,
   "metadata": {
    "id": "p6ztIC30RYwX"
   },
   "outputs": [],
   "source": [
    "dates = np.array(with_ndsi.aggregate_array(\"system:time_start\").getInfo())\n",
    "day = [datetime.datetime.fromtimestamp(i/1000).strftime('%Y-%m-%d') for i in (dates)]"
   ]
  },
  {
   "cell_type": "code",
   "execution_count": null,
   "metadata": {
    "id": "wYyA6NtURN0k"
   },
   "outputs": [],
   "source": [
    "df2 = pd.DataFrame(ndsi_coll, index = day, columns = ['Salinty'])\n",
    "df2.index = pd.to_datetime(df2.index, format=\"%Y/%m/%d\")\n",
    "df2.sort_index(ascending = True, inplace = True)"
   ]
  },
  {
   "cell_type": "code",
   "execution_count": null,
   "metadata": {
    "colab": {
     "base_uri": "https://localhost:8080/",
     "height": 423
    },
    "id": "1Xpl3qh8Sg-C",
    "outputId": "5d465c81-3e67-4e47-8d97-7812c94ad0fb"
   },
   "outputs": [
    {
     "data": {
      "text/html": [
       "\n",
       "  <div id=\"df-1a642508-23c8-4eda-8ebc-61ae8c74e750\">\n",
       "    <div class=\"colab-df-container\">\n",
       "      <div>\n",
       "<style scoped>\n",
       "    .dataframe tbody tr th:only-of-type {\n",
       "        vertical-align: middle;\n",
       "    }\n",
       "\n",
       "    .dataframe tbody tr th {\n",
       "        vertical-align: top;\n",
       "    }\n",
       "\n",
       "    .dataframe thead th {\n",
       "        text-align: right;\n",
       "    }\n",
       "</style>\n",
       "<table border=\"1\" class=\"dataframe\">\n",
       "  <thead>\n",
       "    <tr style=\"text-align: right;\">\n",
       "      <th></th>\n",
       "      <th>Salinty</th>\n",
       "    </tr>\n",
       "  </thead>\n",
       "  <tbody>\n",
       "    <tr>\n",
       "      <th>2018-12-18</th>\n",
       "      <td>0.060754</td>\n",
       "    </tr>\n",
       "    <tr>\n",
       "      <th>2018-12-23</th>\n",
       "      <td>0.215919</td>\n",
       "    </tr>\n",
       "    <tr>\n",
       "      <th>2018-12-28</th>\n",
       "      <td>0.162066</td>\n",
       "    </tr>\n",
       "    <tr>\n",
       "      <th>2019-01-02</th>\n",
       "      <td>0.172895</td>\n",
       "    </tr>\n",
       "    <tr>\n",
       "      <th>2019-01-07</th>\n",
       "      <td>0.133760</td>\n",
       "    </tr>\n",
       "    <tr>\n",
       "      <th>...</th>\n",
       "      <td>...</td>\n",
       "    </tr>\n",
       "    <tr>\n",
       "      <th>2022-12-02</th>\n",
       "      <td>0.062454</td>\n",
       "    </tr>\n",
       "    <tr>\n",
       "      <th>2022-12-07</th>\n",
       "      <td>0.040098</td>\n",
       "    </tr>\n",
       "    <tr>\n",
       "      <th>2022-12-17</th>\n",
       "      <td>0.048394</td>\n",
       "    </tr>\n",
       "    <tr>\n",
       "      <th>2022-12-22</th>\n",
       "      <td>0.046412</td>\n",
       "    </tr>\n",
       "    <tr>\n",
       "      <th>2022-12-27</th>\n",
       "      <td>0.031884</td>\n",
       "    </tr>\n",
       "  </tbody>\n",
       "</table>\n",
       "<p>166 rows × 1 columns</p>\n",
       "</div>\n",
       "      <button class=\"colab-df-convert\" onclick=\"convertToInteractive('df-1a642508-23c8-4eda-8ebc-61ae8c74e750')\"\n",
       "              title=\"Convert this dataframe to an interactive table.\"\n",
       "              style=\"display:none;\">\n",
       "        \n",
       "  <svg xmlns=\"http://www.w3.org/2000/svg\" height=\"24px\"viewBox=\"0 0 24 24\"\n",
       "       width=\"24px\">\n",
       "    <path d=\"M0 0h24v24H0V0z\" fill=\"none\"/>\n",
       "    <path d=\"M18.56 5.44l.94 2.06.94-2.06 2.06-.94-2.06-.94-.94-2.06-.94 2.06-2.06.94zm-11 1L8.5 8.5l.94-2.06 2.06-.94-2.06-.94L8.5 2.5l-.94 2.06-2.06.94zm10 10l.94 2.06.94-2.06 2.06-.94-2.06-.94-.94-2.06-.94 2.06-2.06.94z\"/><path d=\"M17.41 7.96l-1.37-1.37c-.4-.4-.92-.59-1.43-.59-.52 0-1.04.2-1.43.59L10.3 9.45l-7.72 7.72c-.78.78-.78 2.05 0 2.83L4 21.41c.39.39.9.59 1.41.59.51 0 1.02-.2 1.41-.59l7.78-7.78 2.81-2.81c.8-.78.8-2.07 0-2.86zM5.41 20L4 18.59l7.72-7.72 1.47 1.35L5.41 20z\"/>\n",
       "  </svg>\n",
       "      </button>\n",
       "      \n",
       "  <style>\n",
       "    .colab-df-container {\n",
       "      display:flex;\n",
       "      flex-wrap:wrap;\n",
       "      gap: 12px;\n",
       "    }\n",
       "\n",
       "    .colab-df-convert {\n",
       "      background-color: #E8F0FE;\n",
       "      border: none;\n",
       "      border-radius: 50%;\n",
       "      cursor: pointer;\n",
       "      display: none;\n",
       "      fill: #1967D2;\n",
       "      height: 32px;\n",
       "      padding: 0 0 0 0;\n",
       "      width: 32px;\n",
       "    }\n",
       "\n",
       "    .colab-df-convert:hover {\n",
       "      background-color: #E2EBFA;\n",
       "      box-shadow: 0px 1px 2px rgba(60, 64, 67, 0.3), 0px 1px 3px 1px rgba(60, 64, 67, 0.15);\n",
       "      fill: #174EA6;\n",
       "    }\n",
       "\n",
       "    [theme=dark] .colab-df-convert {\n",
       "      background-color: #3B4455;\n",
       "      fill: #D2E3FC;\n",
       "    }\n",
       "\n",
       "    [theme=dark] .colab-df-convert:hover {\n",
       "      background-color: #434B5C;\n",
       "      box-shadow: 0px 1px 3px 1px rgba(0, 0, 0, 0.15);\n",
       "      filter: drop-shadow(0px 1px 2px rgba(0, 0, 0, 0.3));\n",
       "      fill: #FFFFFF;\n",
       "    }\n",
       "  </style>\n",
       "\n",
       "      <script>\n",
       "        const buttonEl =\n",
       "          document.querySelector('#df-1a642508-23c8-4eda-8ebc-61ae8c74e750 button.colab-df-convert');\n",
       "        buttonEl.style.display =\n",
       "          google.colab.kernel.accessAllowed ? 'block' : 'none';\n",
       "\n",
       "        async function convertToInteractive(key) {\n",
       "          const element = document.querySelector('#df-1a642508-23c8-4eda-8ebc-61ae8c74e750');\n",
       "          const dataTable =\n",
       "            await google.colab.kernel.invokeFunction('convertToInteractive',\n",
       "                                                     [key], {});\n",
       "          if (!dataTable) return;\n",
       "\n",
       "          const docLinkHtml = 'Like what you see? Visit the ' +\n",
       "            '<a target=\"_blank\" href=https://colab.research.google.com/notebooks/data_table.ipynb>data table notebook</a>'\n",
       "            + ' to learn more about interactive tables.';\n",
       "          element.innerHTML = '';\n",
       "          dataTable['output_type'] = 'display_data';\n",
       "          await google.colab.output.renderOutput(dataTable, element);\n",
       "          const docLink = document.createElement('div');\n",
       "          docLink.innerHTML = docLinkHtml;\n",
       "          element.appendChild(docLink);\n",
       "        }\n",
       "      </script>\n",
       "    </div>\n",
       "  </div>\n",
       "  "
      ],
      "text/plain": [
       "             Salinty\n",
       "2018-12-18  0.060754\n",
       "2018-12-23  0.215919\n",
       "2018-12-28  0.162066\n",
       "2019-01-02  0.172895\n",
       "2019-01-07  0.133760\n",
       "...              ...\n",
       "2022-12-02  0.062454\n",
       "2022-12-07  0.040098\n",
       "2022-12-17  0.048394\n",
       "2022-12-22  0.046412\n",
       "2022-12-27  0.031884\n",
       "\n",
       "[166 rows x 1 columns]"
      ]
     },
     "execution_count": 15,
     "metadata": {},
     "output_type": "execute_result"
    }
   ],
   "source": [
    "df2"
   ]
  },
  {
   "cell_type": "code",
   "execution_count": null,
   "metadata": {
    "id": "peJL79O46_oi"
   },
   "outputs": [],
   "source": [
    "df2.to_csv('Salinty.csv')"
   ]
  },
  {
   "cell_type": "markdown",
   "metadata": {
    "id": "ox-1424nXqak"
   },
   "source": [
    "# **Dissloved Oxygen Calculation**"
   ]
  },
  {
   "cell_type": "code",
   "execution_count": null,
   "metadata": {
    "id": "72r3aemuYoP8"
   },
   "outputs": [],
   "source": [
    "def addDO(image):\n",
    "  do = image.normalizedDifference(['B4', 'B5']).rename('DO')\n",
    "  return image.addBands(do)\n",
    "with_do = sentinel_AOI.map(addDO)"
   ]
  },
  {
   "cell_type": "code",
   "execution_count": null,
   "metadata": {
    "id": "JSjReHUMNL-g"
   },
   "outputs": [],
   "source": [
    "def meanDO(image):\n",
    "  image = ee.Image(image)\n",
    "  mean = image.reduceRegion(reducer = ee.Reducer.mean().setOutputs(['DO']),\n",
    "                           geometry = lendiya_AOI,\n",
    "                           scale = image.projection().nominalScale().getInfo(),\n",
    "                           maxPixels = 100000,\n",
    "                           bestEffort = True);\n",
    "  return mean.get('DO').getInfo()"
   ]
  },
  {
   "cell_type": "code",
   "execution_count": null,
   "metadata": {
    "id": "I8xt50bKNTJX"
   },
   "outputs": [],
   "source": [
    "Images_do = with_do.select('DO').toList(with_do.size())\n",
    "do_coll = []\n",
    "for i in range(Images_do.length().getInfo()):\n",
    "  image = ee.Image(Images_do.get(i-1))\n",
    "  temp_do = meanDO(image)\n",
    "  do_coll.append(temp_do)"
   ]
  },
  {
   "cell_type": "code",
   "execution_count": null,
   "metadata": {
    "id": "2BF-Mz7WNxqr"
   },
   "outputs": [],
   "source": [
    "dates = np.array(with_do.aggregate_array(\"system:time_start\").getInfo())\n",
    "day = [datetime.datetime.fromtimestamp(i/1000).strftime('%Y-%m-%d') for i in (dates)]"
   ]
  },
  {
   "cell_type": "code",
   "execution_count": null,
   "metadata": {
    "id": "pIstxRBDN3rr"
   },
   "outputs": [],
   "source": [
    "df4 = pd.DataFrame(do_coll, index = day, columns = ['Dissolved Oxygen'])\n",
    "df4.index = pd.to_datetime(df4.index, format=\"%Y/%m/%d\")\n",
    "df4.sort_index(ascending = True, inplace = True)"
   ]
  },
  {
   "cell_type": "code",
   "execution_count": null,
   "metadata": {
    "colab": {
     "base_uri": "https://localhost:8080/",
     "height": 423
    },
    "id": "AUMy-d2YPw6a",
    "outputId": "b3e56226-5680-4cc9-ad7d-593de7bd7306"
   },
   "outputs": [
    {
     "data": {
      "text/html": [
       "\n",
       "  <div id=\"df-8d8505c5-8279-4856-851d-ded1a2156127\">\n",
       "    <div class=\"colab-df-container\">\n",
       "      <div>\n",
       "<style scoped>\n",
       "    .dataframe tbody tr th:only-of-type {\n",
       "        vertical-align: middle;\n",
       "    }\n",
       "\n",
       "    .dataframe tbody tr th {\n",
       "        vertical-align: top;\n",
       "    }\n",
       "\n",
       "    .dataframe thead th {\n",
       "        text-align: right;\n",
       "    }\n",
       "</style>\n",
       "<table border=\"1\" class=\"dataframe\">\n",
       "  <thead>\n",
       "    <tr style=\"text-align: right;\">\n",
       "      <th></th>\n",
       "      <th>Dissolved Oxygen</th>\n",
       "    </tr>\n",
       "  </thead>\n",
       "  <tbody>\n",
       "    <tr>\n",
       "      <th>2018-12-18</th>\n",
       "      <td>-0.056721</td>\n",
       "    </tr>\n",
       "    <tr>\n",
       "      <th>2018-12-23</th>\n",
       "      <td>-0.240334</td>\n",
       "    </tr>\n",
       "    <tr>\n",
       "      <th>2018-12-28</th>\n",
       "      <td>-0.279906</td>\n",
       "    </tr>\n",
       "    <tr>\n",
       "      <th>2019-01-02</th>\n",
       "      <td>-0.256591</td>\n",
       "    </tr>\n",
       "    <tr>\n",
       "      <th>2019-01-07</th>\n",
       "      <td>-0.264053</td>\n",
       "    </tr>\n",
       "    <tr>\n",
       "      <th>...</th>\n",
       "      <td>...</td>\n",
       "    </tr>\n",
       "    <tr>\n",
       "      <th>2022-12-02</th>\n",
       "      <td>-0.086346</td>\n",
       "    </tr>\n",
       "    <tr>\n",
       "      <th>2022-12-07</th>\n",
       "      <td>-0.061451</td>\n",
       "    </tr>\n",
       "    <tr>\n",
       "      <th>2022-12-17</th>\n",
       "      <td>-0.077955</td>\n",
       "    </tr>\n",
       "    <tr>\n",
       "      <th>2022-12-22</th>\n",
       "      <td>-0.069670</td>\n",
       "    </tr>\n",
       "    <tr>\n",
       "      <th>2022-12-27</th>\n",
       "      <td>-0.067129</td>\n",
       "    </tr>\n",
       "  </tbody>\n",
       "</table>\n",
       "<p>166 rows × 1 columns</p>\n",
       "</div>\n",
       "      <button class=\"colab-df-convert\" onclick=\"convertToInteractive('df-8d8505c5-8279-4856-851d-ded1a2156127')\"\n",
       "              title=\"Convert this dataframe to an interactive table.\"\n",
       "              style=\"display:none;\">\n",
       "        \n",
       "  <svg xmlns=\"http://www.w3.org/2000/svg\" height=\"24px\"viewBox=\"0 0 24 24\"\n",
       "       width=\"24px\">\n",
       "    <path d=\"M0 0h24v24H0V0z\" fill=\"none\"/>\n",
       "    <path d=\"M18.56 5.44l.94 2.06.94-2.06 2.06-.94-2.06-.94-.94-2.06-.94 2.06-2.06.94zm-11 1L8.5 8.5l.94-2.06 2.06-.94-2.06-.94L8.5 2.5l-.94 2.06-2.06.94zm10 10l.94 2.06.94-2.06 2.06-.94-2.06-.94-.94-2.06-.94 2.06-2.06.94z\"/><path d=\"M17.41 7.96l-1.37-1.37c-.4-.4-.92-.59-1.43-.59-.52 0-1.04.2-1.43.59L10.3 9.45l-7.72 7.72c-.78.78-.78 2.05 0 2.83L4 21.41c.39.39.9.59 1.41.59.51 0 1.02-.2 1.41-.59l7.78-7.78 2.81-2.81c.8-.78.8-2.07 0-2.86zM5.41 20L4 18.59l7.72-7.72 1.47 1.35L5.41 20z\"/>\n",
       "  </svg>\n",
       "      </button>\n",
       "      \n",
       "  <style>\n",
       "    .colab-df-container {\n",
       "      display:flex;\n",
       "      flex-wrap:wrap;\n",
       "      gap: 12px;\n",
       "    }\n",
       "\n",
       "    .colab-df-convert {\n",
       "      background-color: #E8F0FE;\n",
       "      border: none;\n",
       "      border-radius: 50%;\n",
       "      cursor: pointer;\n",
       "      display: none;\n",
       "      fill: #1967D2;\n",
       "      height: 32px;\n",
       "      padding: 0 0 0 0;\n",
       "      width: 32px;\n",
       "    }\n",
       "\n",
       "    .colab-df-convert:hover {\n",
       "      background-color: #E2EBFA;\n",
       "      box-shadow: 0px 1px 2px rgba(60, 64, 67, 0.3), 0px 1px 3px 1px rgba(60, 64, 67, 0.15);\n",
       "      fill: #174EA6;\n",
       "    }\n",
       "\n",
       "    [theme=dark] .colab-df-convert {\n",
       "      background-color: #3B4455;\n",
       "      fill: #D2E3FC;\n",
       "    }\n",
       "\n",
       "    [theme=dark] .colab-df-convert:hover {\n",
       "      background-color: #434B5C;\n",
       "      box-shadow: 0px 1px 3px 1px rgba(0, 0, 0, 0.15);\n",
       "      filter: drop-shadow(0px 1px 2px rgba(0, 0, 0, 0.3));\n",
       "      fill: #FFFFFF;\n",
       "    }\n",
       "  </style>\n",
       "\n",
       "      <script>\n",
       "        const buttonEl =\n",
       "          document.querySelector('#df-8d8505c5-8279-4856-851d-ded1a2156127 button.colab-df-convert');\n",
       "        buttonEl.style.display =\n",
       "          google.colab.kernel.accessAllowed ? 'block' : 'none';\n",
       "\n",
       "        async function convertToInteractive(key) {\n",
       "          const element = document.querySelector('#df-8d8505c5-8279-4856-851d-ded1a2156127');\n",
       "          const dataTable =\n",
       "            await google.colab.kernel.invokeFunction('convertToInteractive',\n",
       "                                                     [key], {});\n",
       "          if (!dataTable) return;\n",
       "\n",
       "          const docLinkHtml = 'Like what you see? Visit the ' +\n",
       "            '<a target=\"_blank\" href=https://colab.research.google.com/notebooks/data_table.ipynb>data table notebook</a>'\n",
       "            + ' to learn more about interactive tables.';\n",
       "          element.innerHTML = '';\n",
       "          dataTable['output_type'] = 'display_data';\n",
       "          await google.colab.output.renderOutput(dataTable, element);\n",
       "          const docLink = document.createElement('div');\n",
       "          docLink.innerHTML = docLinkHtml;\n",
       "          element.appendChild(docLink);\n",
       "        }\n",
       "      </script>\n",
       "    </div>\n",
       "  </div>\n",
       "  "
      ],
      "text/plain": [
       "            Dissolved Oxygen\n",
       "2018-12-18         -0.056721\n",
       "2018-12-23         -0.240334\n",
       "2018-12-28         -0.279906\n",
       "2019-01-02         -0.256591\n",
       "2019-01-07         -0.264053\n",
       "...                      ...\n",
       "2022-12-02         -0.086346\n",
       "2022-12-07         -0.061451\n",
       "2022-12-17         -0.077955\n",
       "2022-12-22         -0.069670\n",
       "2022-12-27         -0.067129\n",
       "\n",
       "[166 rows x 1 columns]"
      ]
     },
     "execution_count": 22,
     "metadata": {},
     "output_type": "execute_result"
    }
   ],
   "source": [
    "df4"
   ]
  },
  {
   "cell_type": "code",
   "execution_count": null,
   "metadata": {
    "id": "BhuBkMKH9FZy"
   },
   "outputs": [],
   "source": [
    "df4.to_csv('Dissolved Oxygen.csv')"
   ]
  },
  {
   "cell_type": "markdown",
   "metadata": {
    "id": "rFq6kW0mEbWs"
   },
   "source": [
    "# **pH**"
   ]
  },
  {
   "cell_type": "code",
   "execution_count": null,
   "metadata": {
    "id": "Cd0tVe4UEbWt"
   },
   "outputs": [],
   "source": [
    "def addpH(image):\n",
    "  ph = ee.Image(8.339).subtract(ee.Image(0.827).multiply(image.select('B1').divide(image.select('B8')))).rename('PH')\n",
    "  return image.addBands(ph)\n",
    "with_pH = sentinel_AOI.map(addpH)"
   ]
  },
  {
   "cell_type": "code",
   "execution_count": null,
   "metadata": {
    "id": "5K9w3yvwEbWt"
   },
   "outputs": [],
   "source": [
    "def meanpH(image):\n",
    "  image = ee.Image(image)\n",
    "  mean = image.reduceRegion(reducer = ee.Reducer.mean().setOutputs(['PH']),\n",
    "                           geometry = lendiya_AOI,\n",
    "                           scale = image.projection().nominalScale().getInfo(),\n",
    "                           maxPixels = 100000,\n",
    "                           bestEffort = True);\n",
    "  return mean.get('PH').getInfo()"
   ]
  },
  {
   "cell_type": "code",
   "execution_count": null,
   "metadata": {
    "id": "VswLcrkIEbWt"
   },
   "outputs": [],
   "source": [
    "Images_ph = with_pH.select('PH').toList(with_pH.size())\n",
    "ph_coll= []\n",
    "for i in range(Images_ph.length().getInfo()):\n",
    "  image = ee.Image(Images_ph.get(i-1))\n",
    "  temp_ph = meanpH(image)\n",
    "  ph_coll.append(temp_ph)"
   ]
  },
  {
   "cell_type": "code",
   "execution_count": null,
   "metadata": {
    "id": "DiPJQU6EEbWt"
   },
   "outputs": [],
   "source": [
    "dates = np.array(with_pH.aggregate_array(\"system:time_start\").getInfo())\n",
    "day = [datetime.datetime.fromtimestamp(i/1000).strftime('%Y-%m-%d') for i in (dates)]"
   ]
  },
  {
   "cell_type": "code",
   "execution_count": null,
   "metadata": {
    "id": "iGd-MKU8EbWt"
   },
   "outputs": [],
   "source": [
    "df6 = pd.DataFrame(ph_coll, index = day, columns = ['pH'])\n",
    "df6.index = pd.to_datetime(df6.index, format=\"%Y/%m/%d\")\n",
    "df6.sort_index(ascending = True, inplace = True)"
   ]
  },
  {
   "cell_type": "code",
   "execution_count": null,
   "metadata": {
    "colab": {
     "base_uri": "https://localhost:8080/",
     "height": 423
    },
    "id": "2OBaVVDgEbWu",
    "outputId": "ef400fde-2d1a-4e92-9d6d-4106687a1607"
   },
   "outputs": [
    {
     "data": {
      "text/html": [
       "\n",
       "  <div id=\"df-8ccddd42-deed-407f-bdef-b0d18f8440dc\">\n",
       "    <div class=\"colab-df-container\">\n",
       "      <div>\n",
       "<style scoped>\n",
       "    .dataframe tbody tr th:only-of-type {\n",
       "        vertical-align: middle;\n",
       "    }\n",
       "\n",
       "    .dataframe tbody tr th {\n",
       "        vertical-align: top;\n",
       "    }\n",
       "\n",
       "    .dataframe thead th {\n",
       "        text-align: right;\n",
       "    }\n",
       "</style>\n",
       "<table border=\"1\" class=\"dataframe\">\n",
       "  <thead>\n",
       "    <tr style=\"text-align: right;\">\n",
       "      <th></th>\n",
       "      <th>pH</th>\n",
       "    </tr>\n",
       "  </thead>\n",
       "  <tbody>\n",
       "    <tr>\n",
       "      <th>2018-12-18</th>\n",
       "      <td>7.662761</td>\n",
       "    </tr>\n",
       "    <tr>\n",
       "      <th>2018-12-23</th>\n",
       "      <td>7.820192</td>\n",
       "    </tr>\n",
       "    <tr>\n",
       "      <th>2018-12-28</th>\n",
       "      <td>7.873315</td>\n",
       "    </tr>\n",
       "    <tr>\n",
       "      <th>2019-01-02</th>\n",
       "      <td>7.701345</td>\n",
       "    </tr>\n",
       "    <tr>\n",
       "      <th>2019-01-07</th>\n",
       "      <td>7.922840</td>\n",
       "    </tr>\n",
       "    <tr>\n",
       "      <th>...</th>\n",
       "      <td>...</td>\n",
       "    </tr>\n",
       "    <tr>\n",
       "      <th>2022-12-02</th>\n",
       "      <td>7.633734</td>\n",
       "    </tr>\n",
       "    <tr>\n",
       "      <th>2022-12-07</th>\n",
       "      <td>7.669205</td>\n",
       "    </tr>\n",
       "    <tr>\n",
       "      <th>2022-12-17</th>\n",
       "      <td>7.689675</td>\n",
       "    </tr>\n",
       "    <tr>\n",
       "      <th>2022-12-22</th>\n",
       "      <td>7.629132</td>\n",
       "    </tr>\n",
       "    <tr>\n",
       "      <th>2022-12-27</th>\n",
       "      <td>7.616023</td>\n",
       "    </tr>\n",
       "  </tbody>\n",
       "</table>\n",
       "<p>166 rows × 1 columns</p>\n",
       "</div>\n",
       "      <button class=\"colab-df-convert\" onclick=\"convertToInteractive('df-8ccddd42-deed-407f-bdef-b0d18f8440dc')\"\n",
       "              title=\"Convert this dataframe to an interactive table.\"\n",
       "              style=\"display:none;\">\n",
       "        \n",
       "  <svg xmlns=\"http://www.w3.org/2000/svg\" height=\"24px\"viewBox=\"0 0 24 24\"\n",
       "       width=\"24px\">\n",
       "    <path d=\"M0 0h24v24H0V0z\" fill=\"none\"/>\n",
       "    <path d=\"M18.56 5.44l.94 2.06.94-2.06 2.06-.94-2.06-.94-.94-2.06-.94 2.06-2.06.94zm-11 1L8.5 8.5l.94-2.06 2.06-.94-2.06-.94L8.5 2.5l-.94 2.06-2.06.94zm10 10l.94 2.06.94-2.06 2.06-.94-2.06-.94-.94-2.06-.94 2.06-2.06.94z\"/><path d=\"M17.41 7.96l-1.37-1.37c-.4-.4-.92-.59-1.43-.59-.52 0-1.04.2-1.43.59L10.3 9.45l-7.72 7.72c-.78.78-.78 2.05 0 2.83L4 21.41c.39.39.9.59 1.41.59.51 0 1.02-.2 1.41-.59l7.78-7.78 2.81-2.81c.8-.78.8-2.07 0-2.86zM5.41 20L4 18.59l7.72-7.72 1.47 1.35L5.41 20z\"/>\n",
       "  </svg>\n",
       "      </button>\n",
       "      \n",
       "  <style>\n",
       "    .colab-df-container {\n",
       "      display:flex;\n",
       "      flex-wrap:wrap;\n",
       "      gap: 12px;\n",
       "    }\n",
       "\n",
       "    .colab-df-convert {\n",
       "      background-color: #E8F0FE;\n",
       "      border: none;\n",
       "      border-radius: 50%;\n",
       "      cursor: pointer;\n",
       "      display: none;\n",
       "      fill: #1967D2;\n",
       "      height: 32px;\n",
       "      padding: 0 0 0 0;\n",
       "      width: 32px;\n",
       "    }\n",
       "\n",
       "    .colab-df-convert:hover {\n",
       "      background-color: #E2EBFA;\n",
       "      box-shadow: 0px 1px 2px rgba(60, 64, 67, 0.3), 0px 1px 3px 1px rgba(60, 64, 67, 0.15);\n",
       "      fill: #174EA6;\n",
       "    }\n",
       "\n",
       "    [theme=dark] .colab-df-convert {\n",
       "      background-color: #3B4455;\n",
       "      fill: #D2E3FC;\n",
       "    }\n",
       "\n",
       "    [theme=dark] .colab-df-convert:hover {\n",
       "      background-color: #434B5C;\n",
       "      box-shadow: 0px 1px 3px 1px rgba(0, 0, 0, 0.15);\n",
       "      filter: drop-shadow(0px 1px 2px rgba(0, 0, 0, 0.3));\n",
       "      fill: #FFFFFF;\n",
       "    }\n",
       "  </style>\n",
       "\n",
       "      <script>\n",
       "        const buttonEl =\n",
       "          document.querySelector('#df-8ccddd42-deed-407f-bdef-b0d18f8440dc button.colab-df-convert');\n",
       "        buttonEl.style.display =\n",
       "          google.colab.kernel.accessAllowed ? 'block' : 'none';\n",
       "\n",
       "        async function convertToInteractive(key) {\n",
       "          const element = document.querySelector('#df-8ccddd42-deed-407f-bdef-b0d18f8440dc');\n",
       "          const dataTable =\n",
       "            await google.colab.kernel.invokeFunction('convertToInteractive',\n",
       "                                                     [key], {});\n",
       "          if (!dataTable) return;\n",
       "\n",
       "          const docLinkHtml = 'Like what you see? Visit the ' +\n",
       "            '<a target=\"_blank\" href=https://colab.research.google.com/notebooks/data_table.ipynb>data table notebook</a>'\n",
       "            + ' to learn more about interactive tables.';\n",
       "          element.innerHTML = '';\n",
       "          dataTable['output_type'] = 'display_data';\n",
       "          await google.colab.output.renderOutput(dataTable, element);\n",
       "          const docLink = document.createElement('div');\n",
       "          docLink.innerHTML = docLinkHtml;\n",
       "          element.appendChild(docLink);\n",
       "        }\n",
       "      </script>\n",
       "    </div>\n",
       "  </div>\n",
       "  "
      ],
      "text/plain": [
       "                  pH\n",
       "2018-12-18  7.662761\n",
       "2018-12-23  7.820192\n",
       "2018-12-28  7.873315\n",
       "2019-01-02  7.701345\n",
       "2019-01-07  7.922840\n",
       "...              ...\n",
       "2022-12-02  7.633734\n",
       "2022-12-07  7.669205\n",
       "2022-12-17  7.689675\n",
       "2022-12-22  7.629132\n",
       "2022-12-27  7.616023\n",
       "\n",
       "[166 rows x 1 columns]"
      ]
     },
     "execution_count": 29,
     "metadata": {},
     "output_type": "execute_result"
    }
   ],
   "source": [
    "df6"
   ]
  },
  {
   "cell_type": "code",
   "execution_count": null,
   "metadata": {
    "id": "4wcnH4MjKeox"
   },
   "outputs": [],
   "source": [
    "df6.to_csv('pH.csv')"
   ]
  },
  {
   "cell_type": "markdown",
   "metadata": {
    "id": "W60-GpncYzZT"
   },
   "source": [
    "# **Temperature**"
   ]
  },
  {
   "cell_type": "markdown",
   "metadata": {
    "id": "gvhFV18CZCrE"
   },
   "source": [
    "\n",
    "Selecting the Satellite\n",
    "\n"
   ]
  },
  {
   "cell_type": "code",
   "execution_count": null,
   "metadata": {
    "id": "fFMPGgPNZBzt"
   },
   "outputs": [],
   "source": [
    "landsat = ee.ImageCollection(\"LANDSAT/LC08/C02/T1_L2\").\\\n",
    "              filterDate(\"2016-01-01\",\"2022-01-01\")\n",
    "lendiya_AOI = ee.Geometry.Polygon([[77.39023917078465, 23.27477380472318],\n",
    "          [77.39034645914525, 23.274596401498602],\n",
    "          [77.39034645914525, 23.273876930443446],\n",
    "          [77.39060395121068, 23.273847363056678],\n",
    "          [77.3905717647025, 23.27359111209644],\n",
    "          [77.3909150874564, 23.273729093443976],\n",
    "          [77.39105456232518, 23.273847363056678],\n",
    "          [77.39120476603001, 23.273876930443446],\n",
    "          [77.39134424089879, 23.27427116163988],\n",
    "          [77.39111893534154, 23.275808652157437],\n",
    "          [77.39099018930882, 23.27569038428615],\n",
    "          [77.39077561258763, 23.27569038428615],\n",
    "          [77.3904108321616, 23.275394714148526]])\n",
    "\n",
    "landsat_AOI = landsat.filterBounds(lendiya_AOI)"
   ]
  },
  {
   "cell_type": "code",
   "execution_count": null,
   "metadata": {
    "colab": {
     "base_uri": "https://localhost:8080/"
    },
    "id": "W36zNf-yc5t0",
    "outputId": "9b313ab6-ed3c-4172-ee5e-faecd6a32487"
   },
   "outputs": [
    {
     "name": "stdout",
     "output_type": "stream",
     "text": [
      "Total number of images : 230\n"
     ]
    }
   ],
   "source": [
    "print('Total number of images :', landsat_AOI.size().getInfo())"
   ]
  },
  {
   "cell_type": "code",
   "execution_count": null,
   "metadata": {
    "id": "ycE2QZJCZSwd"
   },
   "outputs": [],
   "source": [
    "def addtemp(image):\n",
    "  temp = image.select('ST_B.*').multiply(0.00341802).add(149.0).subtract(273.15).rename('temperature')\n",
    "  return image.addBands(temp)\n",
    "with_temp = landsat_AOI.map(addtemp)\n"
   ]
  },
  {
   "cell_type": "code",
   "execution_count": null,
   "metadata": {
    "id": "xOfG61oaZyKo"
   },
   "outputs": [],
   "source": [
    "def meantemp(image):\n",
    "  image = ee.Image(image)\n",
    "  mean = image.reduceRegion(reducer = ee.Reducer.mean().setOutputs(['temperature']),\n",
    "                           geometry = lendiya_AOI,\n",
    "                           scale = image.projection().nominalScale().getInfo(),\n",
    "                           maxPixels = 100000,\n",
    "                           bestEffort = True);\n",
    "  return mean.get('temperature').getInfo()"
   ]
  },
  {
   "cell_type": "code",
   "execution_count": null,
   "metadata": {
    "id": "bldmSHJve5wS"
   },
   "outputs": [],
   "source": [
    "Images_temp = with_temp.select('temperature').toList(with_temp.size())\n",
    "temp_coll = []\n",
    "for i in range(Images_temp.length().getInfo()):\n",
    "  image = ee.Image(Images_temp.get(i-1))\n",
    "  tempe_temp = meantemp(image)\n",
    "  temp_coll.append(tempe_temp)"
   ]
  },
  {
   "cell_type": "code",
   "execution_count": null,
   "metadata": {
    "id": "YH1eqrnBlp0p"
   },
   "outputs": [],
   "source": [
    "dates = np.array(with_temp.aggregate_array(\"system:time_start\").getInfo())\n",
    "day = [datetime.datetime.fromtimestamp(i/1000).strftime('%Y-%m-%d') for i in (dates)]"
   ]
  },
  {
   "cell_type": "code",
   "execution_count": null,
   "metadata": {
    "id": "6C4A_zLTGIA6"
   },
   "outputs": [],
   "source": [
    "df5 = pd.DataFrame(temp_coll, index = day, columns = ['Temperature'])\n",
    "df5.index = pd.to_datetime(df5.index, format=\"%Y/%m/%d\")\n",
    "df5.sort_index(ascending = True, inplace = True)"
   ]
  },
  {
   "cell_type": "code",
   "execution_count": null,
   "metadata": {
    "colab": {
     "base_uri": "https://localhost:8080/",
     "height": 423
    },
    "id": "fIgFt4uEGLIb",
    "outputId": "cbfe3669-b6d3-4320-fd80-1a92d9d8dace"
   },
   "outputs": [
    {
     "data": {
      "text/html": [
       "\n",
       "  <div id=\"df-062e93ee-d991-480d-9e75-130b8942863b\">\n",
       "    <div class=\"colab-df-container\">\n",
       "      <div>\n",
       "<style scoped>\n",
       "    .dataframe tbody tr th:only-of-type {\n",
       "        vertical-align: middle;\n",
       "    }\n",
       "\n",
       "    .dataframe tbody tr th {\n",
       "        vertical-align: top;\n",
       "    }\n",
       "\n",
       "    .dataframe thead th {\n",
       "        text-align: right;\n",
       "    }\n",
       "</style>\n",
       "<table border=\"1\" class=\"dataframe\">\n",
       "  <thead>\n",
       "    <tr style=\"text-align: right;\">\n",
       "      <th></th>\n",
       "      <th>Temperature</th>\n",
       "    </tr>\n",
       "  </thead>\n",
       "  <tbody>\n",
       "    <tr>\n",
       "      <th>2016-01-07</th>\n",
       "      <td>18.151491</td>\n",
       "    </tr>\n",
       "    <tr>\n",
       "      <th>2016-01-14</th>\n",
       "      <td>25.201303</td>\n",
       "    </tr>\n",
       "    <tr>\n",
       "      <th>2016-01-23</th>\n",
       "      <td>23.758434</td>\n",
       "    </tr>\n",
       "    <tr>\n",
       "      <th>2016-01-30</th>\n",
       "      <td>25.482449</td>\n",
       "    </tr>\n",
       "    <tr>\n",
       "      <th>2016-02-08</th>\n",
       "      <td>23.369908</td>\n",
       "    </tr>\n",
       "    <tr>\n",
       "      <th>...</th>\n",
       "      <td>...</td>\n",
       "    </tr>\n",
       "    <tr>\n",
       "      <th>2021-11-27</th>\n",
       "      <td>26.894394</td>\n",
       "    </tr>\n",
       "    <tr>\n",
       "      <th>2021-12-06</th>\n",
       "      <td>30.914079</td>\n",
       "    </tr>\n",
       "    <tr>\n",
       "      <th>2021-12-13</th>\n",
       "      <td>29.534561</td>\n",
       "    </tr>\n",
       "    <tr>\n",
       "      <th>2021-12-22</th>\n",
       "      <td>28.716595</td>\n",
       "    </tr>\n",
       "    <tr>\n",
       "      <th>2021-12-29</th>\n",
       "      <td>24.956496</td>\n",
       "    </tr>\n",
       "  </tbody>\n",
       "</table>\n",
       "<p>230 rows × 1 columns</p>\n",
       "</div>\n",
       "      <button class=\"colab-df-convert\" onclick=\"convertToInteractive('df-062e93ee-d991-480d-9e75-130b8942863b')\"\n",
       "              title=\"Convert this dataframe to an interactive table.\"\n",
       "              style=\"display:none;\">\n",
       "        \n",
       "  <svg xmlns=\"http://www.w3.org/2000/svg\" height=\"24px\"viewBox=\"0 0 24 24\"\n",
       "       width=\"24px\">\n",
       "    <path d=\"M0 0h24v24H0V0z\" fill=\"none\"/>\n",
       "    <path d=\"M18.56 5.44l.94 2.06.94-2.06 2.06-.94-2.06-.94-.94-2.06-.94 2.06-2.06.94zm-11 1L8.5 8.5l.94-2.06 2.06-.94-2.06-.94L8.5 2.5l-.94 2.06-2.06.94zm10 10l.94 2.06.94-2.06 2.06-.94-2.06-.94-.94-2.06-.94 2.06-2.06.94z\"/><path d=\"M17.41 7.96l-1.37-1.37c-.4-.4-.92-.59-1.43-.59-.52 0-1.04.2-1.43.59L10.3 9.45l-7.72 7.72c-.78.78-.78 2.05 0 2.83L4 21.41c.39.39.9.59 1.41.59.51 0 1.02-.2 1.41-.59l7.78-7.78 2.81-2.81c.8-.78.8-2.07 0-2.86zM5.41 20L4 18.59l7.72-7.72 1.47 1.35L5.41 20z\"/>\n",
       "  </svg>\n",
       "      </button>\n",
       "      \n",
       "  <style>\n",
       "    .colab-df-container {\n",
       "      display:flex;\n",
       "      flex-wrap:wrap;\n",
       "      gap: 12px;\n",
       "    }\n",
       "\n",
       "    .colab-df-convert {\n",
       "      background-color: #E8F0FE;\n",
       "      border: none;\n",
       "      border-radius: 50%;\n",
       "      cursor: pointer;\n",
       "      display: none;\n",
       "      fill: #1967D2;\n",
       "      height: 32px;\n",
       "      padding: 0 0 0 0;\n",
       "      width: 32px;\n",
       "    }\n",
       "\n",
       "    .colab-df-convert:hover {\n",
       "      background-color: #E2EBFA;\n",
       "      box-shadow: 0px 1px 2px rgba(60, 64, 67, 0.3), 0px 1px 3px 1px rgba(60, 64, 67, 0.15);\n",
       "      fill: #174EA6;\n",
       "    }\n",
       "\n",
       "    [theme=dark] .colab-df-convert {\n",
       "      background-color: #3B4455;\n",
       "      fill: #D2E3FC;\n",
       "    }\n",
       "\n",
       "    [theme=dark] .colab-df-convert:hover {\n",
       "      background-color: #434B5C;\n",
       "      box-shadow: 0px 1px 3px 1px rgba(0, 0, 0, 0.15);\n",
       "      filter: drop-shadow(0px 1px 2px rgba(0, 0, 0, 0.3));\n",
       "      fill: #FFFFFF;\n",
       "    }\n",
       "  </style>\n",
       "\n",
       "      <script>\n",
       "        const buttonEl =\n",
       "          document.querySelector('#df-062e93ee-d991-480d-9e75-130b8942863b button.colab-df-convert');\n",
       "        buttonEl.style.display =\n",
       "          google.colab.kernel.accessAllowed ? 'block' : 'none';\n",
       "\n",
       "        async function convertToInteractive(key) {\n",
       "          const element = document.querySelector('#df-062e93ee-d991-480d-9e75-130b8942863b');\n",
       "          const dataTable =\n",
       "            await google.colab.kernel.invokeFunction('convertToInteractive',\n",
       "                                                     [key], {});\n",
       "          if (!dataTable) return;\n",
       "\n",
       "          const docLinkHtml = 'Like what you see? Visit the ' +\n",
       "            '<a target=\"_blank\" href=https://colab.research.google.com/notebooks/data_table.ipynb>data table notebook</a>'\n",
       "            + ' to learn more about interactive tables.';\n",
       "          element.innerHTML = '';\n",
       "          dataTable['output_type'] = 'display_data';\n",
       "          await google.colab.output.renderOutput(dataTable, element);\n",
       "          const docLink = document.createElement('div');\n",
       "          docLink.innerHTML = docLinkHtml;\n",
       "          element.appendChild(docLink);\n",
       "        }\n",
       "      </script>\n",
       "    </div>\n",
       "  </div>\n",
       "  "
      ],
      "text/plain": [
       "            Temperature\n",
       "2016-01-07    18.151491\n",
       "2016-01-14    25.201303\n",
       "2016-01-23    23.758434\n",
       "2016-01-30    25.482449\n",
       "2016-02-08    23.369908\n",
       "...                 ...\n",
       "2021-11-27    26.894394\n",
       "2021-12-06    30.914079\n",
       "2021-12-13    29.534561\n",
       "2021-12-22    28.716595\n",
       "2021-12-29    24.956496\n",
       "\n",
       "[230 rows x 1 columns]"
      ]
     },
     "execution_count": 39,
     "metadata": {},
     "output_type": "execute_result"
    }
   ],
   "source": [
    "df5"
   ]
  },
  {
   "cell_type": "code",
   "execution_count": null,
   "metadata": {
    "id": "aLtgmkH_hRq3"
   },
   "outputs": [],
   "source": [
    "df5.to_csv('Temperature.csv')"
   ]
  },
  {
   "cell_type": "markdown",
   "metadata": {
    "id": "zz4JIC0MArUJ"
   },
   "source": [
    "# **Dissolved Oxygen Matter**"
   ]
  },
  {
   "cell_type": "markdown",
   "metadata": {
    "id": "CAaqVMKSESki"
   },
   "source": [
    "\n",
    "Selecting the Satellite"
   ]
  },
  {
   "cell_type": "code",
   "execution_count": 10,
   "metadata": {
    "id": "QRbh0TVSBDxp"
   },
   "outputs": [],
   "source": [
    "sentinel3 = ee.ImageCollection(\"COPERNICUS/S3/OLCI\").\\\n",
    "              filterDate(\"2018-01-01\",\"2019-01-01\")\n",
    "lendiya_AOI = ee.Geometry.Polygon([[77.39023917078465, 23.27477380472318],\n",
    "          [77.39034645914525, 23.274596401498602],\n",
    "          [77.39034645914525, 23.273876930443446],\n",
    "          [77.39060395121068, 23.273847363056678],\n",
    "          [77.3905717647025, 23.27359111209644],\n",
    "          [77.3909150874564, 23.273729093443976],\n",
    "          [77.39105456232518, 23.273847363056678],\n",
    "          [77.39120476603001, 23.273876930443446],\n",
    "          [77.39134424089879, 23.27427116163988],\n",
    "          [77.39111893534154, 23.275808652157437],\n",
    "          [77.39099018930882, 23.27569038428615],\n",
    "          [77.39077561258763, 23.27569038428615],\n",
    "          [77.3904108321616, 23.275394714148526]])\n",
    "sentinel3_AOI = sentinel3.filterBounds(lendiya_AOI)"
   ]
  },
  {
   "cell_type": "code",
   "execution_count": 11,
   "metadata": {
    "colab": {
     "base_uri": "https://localhost:8080/"
    },
    "id": "DPK26BVEloHu",
    "outputId": "ae1011ca-f31d-4701-da4e-ac5f2a0277a1"
   },
   "outputs": [
    {
     "name": "stdout",
     "output_type": "stream",
     "text": [
      "Total number of images : 2127\n"
     ]
    }
   ],
   "source": [
    "print('Total number of images :', sentinel3_AOI.size().getInfo())"
   ]
  },
  {
   "cell_type": "code",
   "execution_count": 12,
   "metadata": {
    "id": "BG6nD7kXCkOL"
   },
   "outputs": [],
   "source": [
    "def addDM(image):\n",
    "  rgb = image.select(['Oa08_radiance', 'Oa06_radiance', 'Oa04_radiance'])\\\n",
    "              .multiply(ee.Image([0.00876539, 0.0123538, 0.0115198]))\n",
    "  dm = rgb.select('Oa08_radiance').divide(rgb.select('Oa04_radiance')).rename('dom')\n",
    "  return image.addBands(dm)\n",
    "with_dm = sentinel3_AOI.map(addDM)"
   ]
  },
  {
   "cell_type": "code",
   "execution_count": 13,
   "metadata": {
    "id": "de4OnIR4Dcdu"
   },
   "outputs": [],
   "source": [
    "def meanDM(image):\n",
    "  image = ee.Image(image)\n",
    "  mean = image.reduceRegion(reducer = ee.Reducer.mean().setOutputs(['dom']),\n",
    "                           geometry = lendiya_AOI,\n",
    "                           scale = image.projection().nominalScale().getInfo(),\n",
    "                           maxPixels = 100000,\n",
    "                           bestEffort = True);\n",
    "  return mean.get('dom').getInfo()"
   ]
  },
  {
   "cell_type": "code",
   "execution_count": null,
   "metadata": {
    "colab": {
     "base_uri": "https://localhost:8080/"
    },
    "id": "AmGIp4x7DnRt",
    "outputId": "a20af200-398e-4e08-dc22-4f23098eb296"
   },
   "outputs": [],
   "source": [
    "Images_dm = with_dm.select('dom').toList(with_dm.size())\n",
    "dm_coll= []\n",
    "for i in range(Images_dm.length().getInfo()):\n",
    "  image = ee.Image(Images_dm.get(i-1))\n",
    "  temp_dm = meanDM(image)\n",
    "  dm_coll.append(temp_dm)"
   ]
  },
  {
   "cell_type": "code",
   "execution_count": null,
   "metadata": {
    "id": "Kgh8ZHUqD2iH"
   },
   "outputs": [],
   "source": [
    "dates = np.array(with_dm.aggregate_array(\"system:time_start\").getInfo())\n",
    "day = [datetime.datetime.fromtimestamp(i/1000).strftime('%Y-%m-%d') for i in (dates)]"
   ]
  },
  {
   "cell_type": "code",
   "execution_count": null,
   "metadata": {
    "id": "X-_Q0EwmT5yv"
   },
   "outputs": [],
   "source": [
    "df6 = pd.DataFrame(dm_coll, index = day, columns = ['Dissolved Oxygen Matter'])\n",
    "df6.index = pd.to_datetime(df6.index, format=\"%Y/%m/%d\")\n",
    "df6.sort_index(ascending = True, inplace = True)"
   ]
  },
  {
   "cell_type": "code",
   "execution_count": null,
   "metadata": {
    "id": "_X4NJBdgFXsS"
   },
   "outputs": [],
   "source": [
    "df6"
   ]
  },
  {
   "cell_type": "code",
   "execution_count": null,
   "metadata": {
    "id": "FoU3xaCOUn_d"
   },
   "outputs": [],
   "source": [
    "df6.to_csv(\"dom\\Jan1_18toJan1_19\")"
   ]
  },
  {
   "cell_type": "markdown",
   "metadata": {
    "id": "-_zpfSPOZ56i"
   },
   "source": [
    "# **Suspended Matter**"
   ]
  },
  {
   "cell_type": "code",
   "execution_count": null,
   "metadata": {
    "id": "0ezYwq74Z9di"
   },
   "outputs": [],
   "source": [
    "def addSM(image):\n",
    "  rgb = image.select(['Oa08_radiance', 'Oa06_radiance', 'Oa04_radiance'])\\\n",
    "              .multiply(ee.Image([0.00876539, 0.0123538, 0.0115198]))\n",
    "  suspended_matter = rgb.select('Oa08_radiance').divide(rgb.select('Oa06_radiance')).rename('suspended_matter')\n",
    "  return image.addBands(suspended_matter)\n",
    "with_sm = sentinel3_AOI.map(addSM)"
   ]
  },
  {
   "cell_type": "code",
   "execution_count": null,
   "metadata": {
    "id": "LVK07bAaaVg1"
   },
   "outputs": [],
   "source": [
    "def meanSM(image):\n",
    "  image = ee.Image(image)\n",
    "  mean = image.reduceRegion(reducer = ee.Reducer.mean().setOutputs(['suspended_matter']),\n",
    "                           geometry = sarapangi_AOI,\n",
    "                           scale = image.projection().nominalScale().getInfo(),\n",
    "                           maxPixels = 100000,\n",
    "                           bestEffort = True);\n",
    "  return mean.get('suspended_matter').getInfo()"
   ]
  },
  {
   "cell_type": "code",
   "execution_count": null,
   "metadata": {
    "id": "Efd-ZKWabC0P"
   },
   "outputs": [],
   "source": [
    "Images_sm = with_sm.select('suspended_matter').toList(with_sm.size())\n",
    "sm_coll= []\n",
    "for i in range(Images_sm.length().getInfo()):\n",
    "  image = ee.Image(Images_sm.get(i-1))\n",
    "  temp_sm = meanSM(image)\n",
    "  sm_coll.append(temp_sm)"
   ]
  }
 ],
 "metadata": {
  "accelerator": "GPU",
  "colab": {
   "provenance": []
  },
  "gpuClass": "standard",
  "kernelspec": {
   "display_name": "Python 3 (ipykernel)",
   "language": "python",
   "name": "python3"
  },
  "language_info": {
   "codemirror_mode": {
    "name": "ipython",
    "version": 3
   },
   "file_extension": ".py",
   "mimetype": "text/x-python",
   "name": "python",
   "nbconvert_exporter": "python",
   "pygments_lexer": "ipython3",
   "version": "3.9.13"
  }
 },
 "nbformat": 4,
 "nbformat_minor": 1
}
